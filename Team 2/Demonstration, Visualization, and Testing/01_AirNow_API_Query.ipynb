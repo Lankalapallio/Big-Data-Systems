{
 "cells": [
  {
   "cell_type": "code",
   "execution_count": null,
   "id": "90fb6126-1076-4fc9-8fc7-c433d4b5aaf9",
   "metadata": {},
   "outputs": [],
   "source": []
  },
  {
   "cell_type": "code",
   "execution_count": null,
   "id": "6fa0843f-7137-485b-b015-0fcd0bcf9a6d",
   "metadata": {},
   "outputs": [],
   "source": [
    "def make_key():\n",
    "    return datetime.utcnow().strftime(\"%Y-%m-%dT%H-%M\")\n",
    "    \n",
    "def get_recent_data():\n",
    "    load_dotenv()\n",
    "    # By latitude and longitude\n",
    "    # API parameters\n",
    "    endtime = datetime.utcnow()\n",
    "    starttime = endtime - timedelta(hours = 1)\n",
    "    \n",
    "    options = {}\n",
    "    options[\"url\"] = \"https://www.airnowapi.org/aq/data/\"\n",
    "    options[\"parameters\"] = \"OZONE,PM25,PM10,CO,NO2,SO2\"\n",
    "    options[\"bbox\"] = \"-180,-90, 180,90\"\n",
    "    options[\"data_type\"] = \"B\"\n",
    "    options[\"format\"] = \"application/json\"\n",
    "    options[\"ext\"] = \"json\"\n",
    "    options[\"API_KEY\"] = os.getenv(\"API_AIRNOW\")\n",
    "    options['includerawconcentrations'] = \"0\"\n",
    "    options[\"start_date\"] = starttime.strftime(\"%Y-%m-%dT%H\")\n",
    "    options[\"end_date\"] = endtime.strftime(\"%Y-%m-%dT%H\")\n",
    "    options['monitorType'] = \"2\"\n",
    "    options['verbose'] = \"0\"\n",
    "    # API request URL\n",
    "    REQUEST_URL = options[\"url\"] \\\n",
    "                  + \"?startDate=\" + options[\"start_date\"] \\\n",
    "                  + \"&endDate=\" + options[\"end_date\"] \\\n",
    "                  + \"&parameters=\" + options[\"parameters\"] \\\n",
    "                  + \"&BBOX=\" + options[\"bbox\"] \\\n",
    "                  + \"&dataType=\" + options[\"data_type\"] \\\n",
    "                  + \"&format=\" + options[\"format\"] \\\n",
    "                  + \"&verbose=\" + options['verbose'] \\\n",
    "                + \"&monitorType=\" + options['monitorType'] \\\n",
    "                  + \"&includerawconcentrations=\" + options[\"includerawconcentrations\"]\\\n",
    "                  + \"&API_KEY=\" + options[\"API_KEY\"] \n",
    "\n",
    "    session = requests.Session()\n",
    "    retry = Retry(total=3, backoff_factor=0.5)\n",
    "    adapter = HTTPAdapter(max_retries=retry)\n",
    "    session.mount('http://', adapter)\n",
    "    session.mount('https://', adapter)\n",
    "    r = session.get(REQUEST_URL)\n",
    "    print(r)\n",
    "    data = json.loads(r.text)\n",
    "    df = pd.DataFrame(data)\n",
    "    return df\n",
    "\n",
    "def parse_dataframe(df):\n",
    "    df_parse = pd.DataFrame()\n",
    "    for parameter in df['Parameter'].unique():\n",
    "        df_param = df.loc[df['Parameter'] == parameter]\n",
    "        df_param = df_param.rename({'Unit':f'Unit_{parameter}','Value':f'Value_{parameter}','AQI':f'AQI_{parameter}','Category':f'Category_{parameter}'},axis=1)\n",
    "        df_param = df_param.drop(labels = 'Parameter',axis=1)\n",
    "        if len(df_parse) > 0:\n",
    "            df_parse = df_param.merge(df_parse, on=['Latitude','Longitude','UTC'],how='outer')\n",
    "        else:\n",
    "            df_parse = df_param\n",
    "    return df_parse\n",
    "\n",
    "def write_to_local(df, key):\n",
    "    \n",
    "    tmp_dir = (\"./tmp/\")\n",
    "    is_folder = os.path.isdir(tmp_dir)\n",
    "\n",
    "    if not is_folder:\n",
    "        os.makedirs(tmp_dir)\n",
    "    \n",
    "    filename = './tmp/' + key\n",
    "    df.to_json(filename)\n",
    "    return filename"
   ]
  },
  {
   "cell_type": "code",
   "execution_count": null,
   "id": "12eef9cc-f861-4f96-8749-af9fbc55adf8",
   "metadata": {},
   "outputs": [],
   "source": [
    "%%time\n",
    "fn = write_to_local(parse_dataframe(get_recent_data()), make_key())\n",
    "print(fn)"
   ]
  },
  {
   "cell_type": "code",
   "execution_count": null,
   "id": "c60336f3-24b0-46b5-baca-a536fd79ec2b",
   "metadata": {},
   "outputs": [],
   "source": [
    "pd.read_json(fn)"
   ]
  }
 ],
 "metadata": {
  "kernelspec": {
   "display_name": "Python 3 (ipykernel)",
   "language": "python",
   "name": "python3"
  },
  "language_info": {
   "codemirror_mode": {
    "name": "ipython",
    "version": 3
   },
   "file_extension": ".py",
   "mimetype": "text/x-python",
   "name": "python",
   "nbconvert_exporter": "python",
   "pygments_lexer": "ipython3",
   "version": "3.9.16"
  }
 },
 "nbformat": 4,
 "nbformat_minor": 5
}
