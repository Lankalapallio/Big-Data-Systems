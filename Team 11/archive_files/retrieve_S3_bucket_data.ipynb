{
 "cells": [
  {
   "cell_type": "code",
   "execution_count": null,
   "metadata": {},
   "outputs": [],
   "source": [
    "# retrieve all annotations\n",
    "# ! aws s3 cp s3://sagemaker-team11-stanford-dogs/Annotation/ ./Annotation --recursive\n",
    "\n",
    "# # retrieve all images\n",
    "# ! aws s3 cp s3://sagemaker-team11-stanford-dogs/Annotation/ ./Images --recursive"
   ]
  }
 ],
 "metadata": {
  "language_info": {
   "name": "python"
  }
 },
 "nbformat": 4,
 "nbformat_minor": 2
}
