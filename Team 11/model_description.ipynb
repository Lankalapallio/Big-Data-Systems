{
 "cells": [
  {
   "cell_type": "code",
   "execution_count": 6,
   "metadata": {},
   "outputs": [],
   "source": [
    "from torch.utils.data import DataLoader, RandomSampler\n",
    "from torchvision import models\n",
    "import torch\n",
    "import timm\n",
    "from tiny_vit import tiny_vit_5m_224, tiny_vit_11m_224, tiny_vit_21m_224\n",
    "import pandas as pd"
   ]
  },
  {
   "cell_type": "code",
   "execution_count": 3,
   "metadata": {},
   "outputs": [
    {
     "name": "stderr",
     "output_type": "stream",
     "text": [
      "Downloading: \"https://download.pytorch.org/models/mobilenet_v3_large-5c1a4163.pth\" to /home/ajk4yq/.cache/torch/hub/checkpoints/mobilenet_v3_large-5c1a4163.pth\n",
      "100.0%\n",
      "Downloading: \"https://download.pytorch.org/models/mobilenet_v3_small-047dcff4.pth\" to /home/ajk4yq/.cache/torch/hub/checkpoints/mobilenet_v3_small-047dcff4.pth\n",
      "100.0%\n",
      "Downloading: \"https://download.pytorch.org/models/mnasnet0.5_top1_67.823-3ffadce67e.pth\" to /home/ajk4yq/.cache/torch/hub/checkpoints/mnasnet0.5_top1_67.823-3ffadce67e.pth\n",
      "100.0%\n",
      "Downloading: \"https://download.pytorch.org/models/shufflenetv2_x0.5-f707e7126e.pth\" to /home/ajk4yq/.cache/torch/hub/checkpoints/shufflenetv2_x0.5-f707e7126e.pth\n",
      "100.0%\n",
      "Downloading: \"https://download.pytorch.org/models/shufflenetv2_x1-5666bf0f80.pth\" to /home/ajk4yq/.cache/torch/hub/checkpoints/shufflenetv2_x1-5666bf0f80.pth\n",
      "100.0%\n",
      "Downloading: \"https://github.com/wkcn/TinyViT-model-zoo/releases/download/checkpoints/tiny_vit_5m_22kto1k_distill.pth\" to /home/ajk4yq/.cache/torch/hub/checkpoints/tiny_vit_5m_22kto1k_distill.pth\n"
     ]
    }
   ],
   "source": [
    "# load mobilenet_v3_large\n",
    "mobilenet_v3_large = models.mobilenet_v3_large(weights=\"IMAGENET1K_V2\")\n",
    "\n",
    "# load mobilenet_v3_small\n",
    "mobilenet_v3_small = models.mobilenet_v3_small(weights=\"IMAGENET1K_V1\")\n",
    "\n",
    "# load mnasnet0_5\n",
    "mnasnet0_5 = models.mnasnet0_5(weights=\"IMAGENET1K_V1\")\n",
    "\n",
    "# load shufflenet_v2_x0_5\n",
    "shufflenet_v2_x0_5 = models.shufflenet_v2_x0_5(weights=\"IMAGENET1K_V1\")\n",
    "\n",
    "# load shufflenet_v2_x1_0\n",
    "shufflenet_v2_x1_0 = models.shufflenet_v2_x1_0(weights=\"IMAGENET1K_V1\")\n",
    "\n",
    "# load microsoft's tiny_vit\n",
    "num_classes = 120\n",
    "\n",
    "tiny_vit_5m = tiny_vit_5m_224(pretrained=True)\n",
    "tiny_vit_5m.head = torch.nn.Linear(tiny_vit_5m.head.in_features, num_classes)"
   ]
  },
  {
   "cell_type": "code",
   "execution_count": 9,
   "metadata": {},
   "outputs": [],
   "source": [
    "def count_parameters(model):\n",
    "    num_params = 0\n",
    "    size_model = 0\n",
    "    for param in model.parameters():\n",
    "        num_params +=  param.numel()\n",
    "        if param.data.is_floating_point():\n",
    "            size_model += param.numel() * torch.finfo(param.data.dtype).bits\n",
    "        else:\n",
    "            size_model += param.numel() * torch.iinfo(param.data.dtype).bits\n",
    "    size_model = f'{size_model/8e6:.2f} MB'\n",
    "    return (num_params, size_model)\n",
    "\n"
   ]
  },
  {
   "cell_type": "code",
   "execution_count": 13,
   "metadata": {},
   "outputs": [],
   "source": [
    "model_list = [mobilenet_v3_large, mobilenet_v3_small, mnasnet0_5, shufflenet_v2_x0_5, shufflenet_v2_x1_0, tiny_vit_5m]\n",
    "model_names = ['mobilenet_v3_large', 'mobilenet_v3_small', 'mnasnet0_5', 'shufflenet_v2_x0_5', 'shufflenet_v2_x1_0', 'tiny_vit_5m']\n",
    "model_zip = zip(model_list, model_names)\n",
    "\n",
    "model_params_df = pd.DataFrame(columns=['Model', 'Num_Params', 'Size_MB'])\n",
    "\n",
    "for model_tup in model_zip:\n",
    "    params, size = count_parameters(model_tup[0])\n",
    "    model_params_df.loc[len(model_params_df.index)] = [model_tup[1], params, size]"
   ]
  },
  {
   "cell_type": "code",
   "execution_count": 14,
   "metadata": {},
   "outputs": [
    {
     "data": {
      "text/html": [
       "<div>\n",
       "<style scoped>\n",
       "    .dataframe tbody tr th:only-of-type {\n",
       "        vertical-align: middle;\n",
       "    }\n",
       "\n",
       "    .dataframe tbody tr th {\n",
       "        vertical-align: top;\n",
       "    }\n",
       "\n",
       "    .dataframe thead th {\n",
       "        text-align: right;\n",
       "    }\n",
       "</style>\n",
       "<table border=\"1\" class=\"dataframe\">\n",
       "  <thead>\n",
       "    <tr style=\"text-align: right;\">\n",
       "      <th></th>\n",
       "      <th>Model</th>\n",
       "      <th>Num_Params</th>\n",
       "      <th>Size_MB</th>\n",
       "    </tr>\n",
       "  </thead>\n",
       "  <tbody>\n",
       "    <tr>\n",
       "      <th>0</th>\n",
       "      <td>mobilenet_v3_large</td>\n",
       "      <td>5483032</td>\n",
       "      <td>21.93 MB</td>\n",
       "    </tr>\n",
       "    <tr>\n",
       "      <th>1</th>\n",
       "      <td>mobilenet_v3_small</td>\n",
       "      <td>2542856</td>\n",
       "      <td>10.17 MB</td>\n",
       "    </tr>\n",
       "    <tr>\n",
       "      <th>2</th>\n",
       "      <td>mnasnet0_5</td>\n",
       "      <td>2218512</td>\n",
       "      <td>8.87 MB</td>\n",
       "    </tr>\n",
       "    <tr>\n",
       "      <th>3</th>\n",
       "      <td>shufflenet_v2_x0_5</td>\n",
       "      <td>1366792</td>\n",
       "      <td>5.47 MB</td>\n",
       "    </tr>\n",
       "    <tr>\n",
       "      <th>4</th>\n",
       "      <td>shufflenet_v2_x1_0</td>\n",
       "      <td>2278604</td>\n",
       "      <td>9.11 MB</td>\n",
       "    </tr>\n",
       "    <tr>\n",
       "      <th>5</th>\n",
       "      <td>tiny_vit_5m</td>\n",
       "      <td>5110284</td>\n",
       "      <td>20.44 MB</td>\n",
       "    </tr>\n",
       "  </tbody>\n",
       "</table>\n",
       "</div>"
      ],
      "text/plain": [
       "                Model  Num_Params   Size_MB\n",
       "0  mobilenet_v3_large     5483032  21.93 MB\n",
       "1  mobilenet_v3_small     2542856  10.17 MB\n",
       "2          mnasnet0_5     2218512   8.87 MB\n",
       "3  shufflenet_v2_x0_5     1366792   5.47 MB\n",
       "4  shufflenet_v2_x1_0     2278604   9.11 MB\n",
       "5         tiny_vit_5m     5110284  20.44 MB"
      ]
     },
     "execution_count": 14,
     "metadata": {},
     "output_type": "execute_result"
    }
   ],
   "source": [
    "model_params_df"
   ]
  },
  {
   "cell_type": "code",
   "execution_count": 24,
   "metadata": {},
   "outputs": [
    {
     "name": "stdout",
     "output_type": "stream",
     "text": [
      "| Model | # of Parameters | Size (MB)|\n",
      "| ----- | --------------- | -------- |\n",
      "| mobilenet_v3_large | 5483032 | 21.93 MB |\n",
      "| mobilenet_v3_small | 2542856 | 10.17 MB |\n",
      "| mnasnet0_5 | 2218512 | 8.87 MB |\n",
      "| shufflenet_v2_x0_5 | 1366792 | 5.47 MB |\n",
      "| shufflenet_v2_x1_0 | 2278604 | 9.11 MB |\n",
      "| tiny_vit_5m | 5110284 | 20.44 MB |\n"
     ]
    }
   ],
   "source": [
    "#create markdown table\n",
    "print('| Model | # of Parameters | Size (MB)|')\n",
    "print('| ----- | --------------- | -------- |')\n",
    "\n",
    "model_list = [mobilenet_v3_large, mobilenet_v3_small, mnasnet0_5, shufflenet_v2_x0_5, shufflenet_v2_x1_0, tiny_vit_5m]\n",
    "model_names = ['mobilenet_v3_large', 'mobilenet_v3_small', 'mnasnet0_5', 'shufflenet_v2_x0_5', 'shufflenet_v2_x1_0', 'tiny_vit_5m']\n",
    "model_zip = zip(model_list, model_names)\n",
    "\n",
    "for model_tup in model_zip:\n",
    "    params, size = count_parameters(model_tup[0])\n",
    "    print(f'| {model_tup[1]} | {params} | {size} |')"
   ]
  },
  {
   "cell_type": "code",
   "execution_count": null,
   "metadata": {},
   "outputs": [],
   "source": []
  }
 ],
 "metadata": {
  "kernelspec": {
   "display_name": "Python 3",
   "language": "python",
   "name": "python3"
  },
  "language_info": {
   "codemirror_mode": {
    "name": "ipython",
    "version": 3
   },
   "file_extension": ".py",
   "mimetype": "text/x-python",
   "name": "python",
   "nbconvert_exporter": "python",
   "pygments_lexer": "ipython3",
   "version": "3.10.12"
  }
 },
 "nbformat": 4,
 "nbformat_minor": 2
}
