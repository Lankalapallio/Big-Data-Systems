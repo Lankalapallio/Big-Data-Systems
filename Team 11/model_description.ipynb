{
 "cells": [
  {
   "cell_type": "code",
   "execution_count": 2,
   "metadata": {},
   "outputs": [
    {
     "name": "stderr",
     "output_type": "stream",
     "text": [
      "/home/sagemaker-user/Big-Data-Systems/Team 11/tiny_vit.py:641: UserWarning: Overwriting tiny_vit_5m_224 in registry with tiny_vit.tiny_vit_5m_224. This is because the name being registered conflicts with an existing name. Please check if this is not expected.\n",
      "  def tiny_vit_5m_224(pretrained=False, **kwargs):\n",
      "/home/sagemaker-user/Big-Data-Systems/Team 11/tiny_vit.py:654: UserWarning: Overwriting tiny_vit_11m_224 in registry with tiny_vit.tiny_vit_11m_224. This is because the name being registered conflicts with an existing name. Please check if this is not expected.\n",
      "  def tiny_vit_11m_224(pretrained=False, **kwargs):\n",
      "/home/sagemaker-user/Big-Data-Systems/Team 11/tiny_vit.py:667: UserWarning: Overwriting tiny_vit_21m_224 in registry with tiny_vit.tiny_vit_21m_224. This is because the name being registered conflicts with an existing name. Please check if this is not expected.\n",
      "  def tiny_vit_21m_224(pretrained=False, **kwargs):\n",
      "/home/sagemaker-user/Big-Data-Systems/Team 11/tiny_vit.py:680: UserWarning: Overwriting tiny_vit_21m_384 in registry with tiny_vit.tiny_vit_21m_384. This is because the name being registered conflicts with an existing name. Please check if this is not expected.\n",
      "  def tiny_vit_21m_384(pretrained=False, **kwargs):\n",
      "/home/sagemaker-user/Big-Data-Systems/Team 11/tiny_vit.py:694: UserWarning: Overwriting tiny_vit_21m_512 in registry with tiny_vit.tiny_vit_21m_512. This is because the name being registered conflicts with an existing name. Please check if this is not expected.\n",
      "  def tiny_vit_21m_512(pretrained=False, **kwargs):\n"
     ]
    }
   ],
   "source": [
    "from torch.utils.data import DataLoader, RandomSampler\n",
    "from torchvision import models\n",
    "import torch\n",
    "import timm\n",
    "from tiny_vit import tiny_vit_5m_224, tiny_vit_11m_224, tiny_vit_21m_224"
   ]
  },
  {
   "cell_type": "code",
   "execution_count": 3,
   "metadata": {},
   "outputs": [],
   "source": [
    "# load mobilenet_v3_large\n",
    "mobilenet_v3_large = models.mobilenet_v3_large(weights=\"IMAGENET1K_V2\")\n",
    "\n",
    "# load mobilenet_v3_small\n",
    "mobilenet_v3_small = models.mobilenet_v3_small(weights=\"IMAGENET1K_V1\")\n",
    "\n",
    "# load mnasnet0_5\n",
    "mnasnet0_5 = models.mnasnet0_5(weights=\"IMAGENET1K_V1\")\n",
    "\n",
    "# load shufflenet_v2_x0_5\n",
    "shufflenet_v2_x0_5 = models.shufflenet_v2_x0_5(weights=\"IMAGENET1K_V1\")\n",
    "\n",
    "# load shufflenet_v2_x1_0\n",
    "shufflenet_v2_x1_0 = models.shufflenet_v2_x1_0(weights=\"IMAGENET1K_V1\")\n",
    "\n",
    "# load microsoft's tiny_vit\n",
    "num_classes = 120\n",
    "\n",
    "tiny_vit_5m = tiny_vit_5m_224(pretrained=True)\n",
    "tiny_vit_5m.head = torch.nn.Linear(tiny_vit_5m.head.in_features, num_classes)"
   ]
  },
  {
   "cell_type": "code",
   "execution_count": 15,
   "metadata": {},
   "outputs": [],
   "source": [
    "def count_parameters(model):\n",
    "    num_params = 0\n",
    "    size_model = 0\n",
    "    for param in model.parameters():\n",
    "        num_params +=  param.numel()\n",
    "        if param.data.is_floating_point():\n",
    "            size_model += param.numel() * torch.finfo(param.data.dtype).bits\n",
    "        else:\n",
    "            size_model += param.numel() * torch.iinfo(param.data.dtype).bits\n",
    "    size_model = size_model/8e6\n",
    "    return f'{num_params} | {size_model:.2f} MB'\n",
    "\n"
   ]
  },
  {
   "cell_type": "code",
   "execution_count": 17,
   "metadata": {},
   "outputs": [
    {
     "name": "stdout",
     "output_type": "stream",
     "text": [
      "5483032 | 21.93 MB\n",
      "2542856 | 10.17 MB\n",
      "2218512 | 8.87 MB\n",
      "1366792 | 5.47 MB\n",
      "2278604 | 9.11 MB\n",
      "5110284 | 20.44 MB\n"
     ]
    }
   ],
   "source": [
    "model_list = [mobilenet_v3_large, mobilenet_v3_small, mnasnet0_5, shufflenet_v2_x0_5, shufflenet_v2_x1_0, tiny_vit_5m]\n",
    "\n",
    "\n",
    "for model in model_list:\n",
    "    print(count_parameters(model))"
   ]
  },
  {
   "cell_type": "code",
   "execution_count": null,
   "metadata": {},
   "outputs": [],
   "source": []
  }
 ],
 "metadata": {
  "kernelspec": {
   "display_name": "Python 3",
   "language": "python",
   "name": "python3"
  },
  "language_info": {
   "codemirror_mode": {
    "name": "ipython",
    "version": 3
   },
   "file_extension": ".py",
   "mimetype": "text/x-python",
   "name": "python",
   "nbconvert_exporter": "python",
   "pygments_lexer": "ipython3",
   "version": "3.10.13"
  }
 },
 "nbformat": 4,
 "nbformat_minor": 2
}
