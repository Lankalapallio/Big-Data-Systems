{
 "cells": [
  {
   "cell_type": "code",
   "execution_count": 1,
   "metadata": {},
   "outputs": [],
   "source": [
    "import boto3\n",
    "import sagemaker"
   ]
  },
  {
   "cell_type": "code",
   "execution_count": 2,
   "metadata": {},
   "outputs": [],
   "source": [
    "bucket_name = \"sagemaker-team11-stanford-dogs\"\n",
    "session = boto3.session.Session()\n",
    "sagemaker_session = sagemaker.Session(\n",
    "    default_bucket = bucket_name\n",
    ")\n",
    "region = session.region_name\n",
    "bucket = sagemaker_session.default_bucket()\n",
    "\n",
    "s3 = boto3.Session().client(service_name=\"s3\", region_name=region)"
   ]
  }
 ],
 "metadata": {
  "kernelspec": {
   "display_name": "big_dogs_env",
   "language": "python",
   "name": "python3"
  },
  "language_info": {
   "codemirror_mode": {
    "name": "ipython",
    "version": 3
   },
   "file_extension": ".py",
   "mimetype": "text/x-python",
   "name": "python",
   "nbconvert_exporter": "python",
   "pygments_lexer": "ipython3",
   "version": "3.7.16"
  }
 },
 "nbformat": 4,
 "nbformat_minor": 2
}
