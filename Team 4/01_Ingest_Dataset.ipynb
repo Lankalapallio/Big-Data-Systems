{
 "cells": [
  {
   "cell_type": "markdown",
   "metadata": {},
   "source": [
    "## 1. Load the Ryanair Reviews into AWS S3"
   ]
  },
  {
   "cell_type": "code",
   "execution_count": 51,
   "metadata": {},
   "outputs": [
    {
     "name": "stderr",
     "output_type": "stream",
     "text": [
      "/home/sagemaker-user/.conda/envs/data_science_on_aws/lib/python3.7/site-packages/boto3/compat.py:82: PythonDeprecationWarning: Boto3 will no longer support Python 3.7 starting December 13, 2023. To continue receiving service updates, bug fixes, and security updates please upgrade to Python 3.8 or later. More information can be found here: https://aws.amazon.com/blogs/developer/python-support-policy-updates-for-aws-sdks-and-tools/\n",
      "  warnings.warn(warning, PythonDeprecationWarning)\n"
     ]
    }
   ],
   "source": [
    "import boto3\n",
    "import sagemaker\n",
    "import pandas as pd\n",
    "\n",
    "sess = sagemaker.Session()\n",
    "role = sagemaker.get_execution_role()\n",
    "region = boto3.Session().region_name\n",
    "account_id = boto3.client(\"sts\").get_caller_identity().get(\"Account\")\n",
    "\n",
    "sm = boto3.Session().client(service_name=\"sagemaker\", region_name=region)"
   ]
  },
  {
   "cell_type": "markdown",
   "metadata": {},
   "source": [
    "### List existing S3 buckets"
   ]
  },
  {
   "cell_type": "code",
   "execution_count": 52,
   "metadata": {},
   "outputs": [
    {
     "name": "stdout",
     "output_type": "stream",
     "text": [
      "2024-02-18 20:23:31 211125778552personalizepocvod\n",
      "2024-02-18 01:27:18 aws-athena-query-results-211125778552-us-east-1\n",
      "2024-03-27 00:35:44 aws-glue-assets-211125778552-us-east-1\n",
      "2024-03-27 00:28:12 aws-glue-assets-211125778552-us-east-2\n",
      "2024-02-15 21:19:44 sagemaker-studio-12jvao34qlkn\n",
      "2024-02-15 22:38:05 sagemaker-studio-211125778552-3pjkfc2ijfr\n",
      "2024-02-17 02:02:09 sagemaker-studio-211125778552-4dcj21sopi3\n",
      "2024-02-19 03:02:29 sagemaker-studio-211125778552-4rfwbx1bibn\n",
      "2024-02-15 20:23:46 sagemaker-studio-211125778552-4yhhjbuzjdq\n",
      "2024-02-17 02:02:35 sagemaker-studio-211125778552-8xxlet4bnrv\n",
      "2024-02-17 02:02:08 sagemaker-studio-211125778552-rfcwvtinree\n",
      "2024-02-20 00:38:45 sagemaker-studio-211125778552-yu1t8p5304s\n",
      "2024-03-21 19:20:47 sagemaker-studio-uyd2sz3oy3\n",
      "2024-03-08 03:11:27 sagemaker-team11-stanford-dogs\n",
      "2024-03-18 01:49:41 sagemaker-team6-distracted-drivers\n",
      "2024-02-15 20:23:48 sagemaker-us-east-1-211125778552\n",
      "2024-03-03 20:33:04 team-3-project-data\n",
      "2024-03-20 23:58:20 team-8-project-data\n",
      "2024-03-28 22:10:03 team5bucket\n"
     ]
    }
   ],
   "source": [
    "!aws s3 ls"
   ]
  },
  {
   "cell_type": "markdown",
   "metadata": {},
   "source": [
    "### Create our own S3 bucket"
   ]
  },
  {
   "cell_type": "code",
   "execution_count": 53,
   "metadata": {},
   "outputs": [
    {
     "name": "stdout",
     "output_type": "stream",
     "text": [
      "make_bucket: team-4-project-data\n"
     ]
    }
   ],
   "source": [
    "!aws s3 mb s3://team-4-project-data"
   ]
  },
  {
   "cell_type": "markdown",
   "metadata": {},
   "source": [
    "### Upload the Ryanair customer feedback dataset to the S3 bucket"
   ]
  },
  {
   "cell_type": "code",
   "execution_count": 54,
   "metadata": {},
   "outputs": [],
   "source": [
    "s3_private_path = \"s3://team-4-project-data/ryanair-data/\""
   ]
  },
  {
   "cell_type": "code",
   "execution_count": 55,
   "metadata": {},
   "outputs": [
    {
     "name": "stdout",
     "output_type": "stream",
     "text": [
      "upload: ./ryanair_reviews.csv to s3://team-4-project-data/ryanair-data/ryanair_reviews.csv\n"
     ]
    }
   ],
   "source": [
    "!aws s3 cp ryanair_reviews.csv s3://team-4-project-data/ryanair-data/"
   ]
  },
  {
   "cell_type": "markdown",
   "metadata": {},
   "source": [
    "### Create an Athena database to store the customer feedback"
   ]
  },
  {
   "cell_type": "code",
   "execution_count": 56,
   "metadata": {},
   "outputs": [],
   "source": [
    "from pyathena import connect\n",
    "import pandas as pd"
   ]
  },
  {
   "cell_type": "code",
   "execution_count": 57,
   "metadata": {},
   "outputs": [],
   "source": [
    "database_name = \"team4\"\n",
    "table_name = \"ryanair_reviews\"\n",
    "bucket = \"team-4-project-data\""
   ]
  },
  {
   "cell_type": "code",
   "execution_count": 58,
   "metadata": {},
   "outputs": [],
   "source": [
    "# Set S3 staging directory -- this is a temporary directory used for Athena queries\n",
    "s3_staging_dir = \"s3://{0}/athena/staging\".format(bucket)"
   ]
  },
  {
   "cell_type": "code",
   "execution_count": 59,
   "metadata": {},
   "outputs": [],
   "source": [
    "conn = connect(region_name=region, s3_staging_dir=s3_staging_dir)"
   ]
  },
  {
   "cell_type": "code",
   "execution_count": 60,
   "metadata": {},
   "outputs": [
    {
     "name": "stdout",
     "output_type": "stream",
     "text": [
      "CREATE DATABASE IF NOT EXISTS team4\n"
     ]
    }
   ],
   "source": [
    "statement = \"CREATE DATABASE IF NOT EXISTS {}\".format(database_name)\n",
    "print(statement)"
   ]
  },
  {
   "cell_type": "code",
   "execution_count": 61,
   "metadata": {},
   "outputs": [
    {
     "data": {
      "text/html": [
       "<div>\n",
       "<style scoped>\n",
       "    .dataframe tbody tr th:only-of-type {\n",
       "        vertical-align: middle;\n",
       "    }\n",
       "\n",
       "    .dataframe tbody tr th {\n",
       "        vertical-align: top;\n",
       "    }\n",
       "\n",
       "    .dataframe thead th {\n",
       "        text-align: right;\n",
       "    }\n",
       "</style>\n",
       "<table border=\"1\" class=\"dataframe\">\n",
       "  <thead>\n",
       "    <tr style=\"text-align: right;\">\n",
       "      <th></th>\n",
       "    </tr>\n",
       "  </thead>\n",
       "  <tbody>\n",
       "  </tbody>\n",
       "</table>\n",
       "</div>"
      ],
      "text/plain": [
       "Empty DataFrame\n",
       "Columns: []\n",
       "Index: []"
      ]
     },
     "execution_count": 61,
     "metadata": {},
     "output_type": "execute_result"
    }
   ],
   "source": [
    "pd.read_sql(statement, conn)"
   ]
  },
  {
   "cell_type": "code",
   "execution_count": 62,
   "metadata": {},
   "outputs": [
    {
     "data": {
      "text/html": [
       "<div>\n",
       "<style scoped>\n",
       "    .dataframe tbody tr th:only-of-type {\n",
       "        vertical-align: middle;\n",
       "    }\n",
       "\n",
       "    .dataframe tbody tr th {\n",
       "        vertical-align: top;\n",
       "    }\n",
       "\n",
       "    .dataframe thead th {\n",
       "        text-align: right;\n",
       "    }\n",
       "</style>\n",
       "<table border=\"1\" class=\"dataframe\">\n",
       "  <thead>\n",
       "    <tr style=\"text-align: right;\">\n",
       "      <th></th>\n",
       "      <th>database_name</th>\n",
       "    </tr>\n",
       "  </thead>\n",
       "  <tbody>\n",
       "    <tr>\n",
       "      <th>0</th>\n",
       "      <td>default</td>\n",
       "    </tr>\n",
       "    <tr>\n",
       "      <th>1</th>\n",
       "      <td>dsoaws</td>\n",
       "    </tr>\n",
       "    <tr>\n",
       "      <th>2</th>\n",
       "      <td>sagemaker_featurestore</td>\n",
       "    </tr>\n",
       "    <tr>\n",
       "      <th>3</th>\n",
       "      <td>team3-court-data</td>\n",
       "    </tr>\n",
       "    <tr>\n",
       "      <th>4</th>\n",
       "      <td>team4</td>\n",
       "    </tr>\n",
       "  </tbody>\n",
       "</table>\n",
       "</div>"
      ],
      "text/plain": [
       "            database_name\n",
       "0                 default\n",
       "1                  dsoaws\n",
       "2  sagemaker_featurestore\n",
       "3        team3-court-data\n",
       "4                   team4"
      ]
     },
     "execution_count": 62,
     "metadata": {},
     "output_type": "execute_result"
    }
   ],
   "source": [
    "statement = \"SHOW DATABASES\"\n",
    "\n",
    "df_show = pd.read_sql(statement, conn)\n",
    "df_show.head(5)"
   ]
  },
  {
   "cell_type": "markdown",
   "metadata": {},
   "source": [
    "### Load the Ryanair data into the database"
   ]
  },
  {
   "cell_type": "code",
   "execution_count": 63,
   "metadata": {},
   "outputs": [
    {
     "name": "stdout",
     "output_type": "stream",
     "text": [
      "CREATE EXTERNAL TABLE IF NOT EXISTS team4.ryanair_reviews(\n",
      "        date_published date,\n",
      "        overall_rating int, \n",
      "        passenger_country string,\n",
      "        trip_verified string,\n",
      "        comment_title string,\n",
      "        comment string,\n",
      "        aircraft string,\n",
      "        type_of_traveller string,\n",
      "        seat_type string,\n",
      "        origin string,  \n",
      "        destination string,\n",
      "        date_flown date,\n",
      "        seat_comfort int,\n",
      "        cabin_staff_service int,\n",
      "        food_and_beverages int,\n",
      "        ground_service int,\n",
      "        value_for_money int,\n",
      "        recommended int,    \n",
      "        inflight_entertainment int, \n",
      "        wifi_and_connectivity int\n",
      ") ROW FORMAT DELIMITED FIELDS TERMINATED BY '\\,' LINES TERMINATED BY '\\n' LOCATION 's3://team-4-project-data/ryanair-data/'\n",
      "TBLPROPERTIES ('compressionType'='gzip', 'skip.header.line.count'='1')\n"
     ]
    }
   ],
   "source": [
    "statement = \"\"\"CREATE EXTERNAL TABLE IF NOT EXISTS {}.{}(\n",
    "        date_published date,\n",
    "        overall_rating int, \n",
    "        passenger_country string,\n",
    "        trip_verified string,\n",
    "        comment_title string,\n",
    "        comment string,\n",
    "        aircraft string,\n",
    "        type_of_traveller string,\n",
    "        seat_type string,\n",
    "        origin string,  \n",
    "        destination string,\n",
    "        date_flown date,\n",
    "        seat_comfort int,\n",
    "        cabin_staff_service int,\n",
    "        food_and_beverages int,\n",
    "        ground_service int,\n",
    "        value_for_money int,\n",
    "        recommended int,    \n",
    "        inflight_entertainment int, \n",
    "        wifi_and_connectivity int\n",
    ") ROW FORMAT DELIMITED FIELDS TERMINATED BY '\\\\,' LINES TERMINATED BY '\\\\n' LOCATION '{}'\n",
    "TBLPROPERTIES ('compressionType'='gzip', 'skip.header.line.count'='1')\"\"\".format(\n",
    "    database_name, table_name, s3_private_path\n",
    ")\n",
    "\n",
    "print(statement)"
   ]
  },
  {
   "cell_type": "code",
   "execution_count": 64,
   "metadata": {},
   "outputs": [
    {
     "data": {
      "text/html": [
       "<div>\n",
       "<style scoped>\n",
       "    .dataframe tbody tr th:only-of-type {\n",
       "        vertical-align: middle;\n",
       "    }\n",
       "\n",
       "    .dataframe tbody tr th {\n",
       "        vertical-align: top;\n",
       "    }\n",
       "\n",
       "    .dataframe thead th {\n",
       "        text-align: right;\n",
       "    }\n",
       "</style>\n",
       "<table border=\"1\" class=\"dataframe\">\n",
       "  <thead>\n",
       "    <tr style=\"text-align: right;\">\n",
       "      <th></th>\n",
       "    </tr>\n",
       "  </thead>\n",
       "  <tbody>\n",
       "  </tbody>\n",
       "</table>\n",
       "</div>"
      ],
      "text/plain": [
       "Empty DataFrame\n",
       "Columns: []\n",
       "Index: []"
      ]
     },
     "execution_count": 64,
     "metadata": {},
     "output_type": "execute_result"
    }
   ],
   "source": [
    "pd.read_sql(statement, conn)"
   ]
  },
  {
   "cell_type": "code",
   "execution_count": 65,
   "metadata": {},
   "outputs": [
    {
     "data": {
      "text/html": [
       "<div>\n",
       "<style scoped>\n",
       "    .dataframe tbody tr th:only-of-type {\n",
       "        vertical-align: middle;\n",
       "    }\n",
       "\n",
       "    .dataframe tbody tr th {\n",
       "        vertical-align: top;\n",
       "    }\n",
       "\n",
       "    .dataframe thead th {\n",
       "        text-align: right;\n",
       "    }\n",
       "</style>\n",
       "<table border=\"1\" class=\"dataframe\">\n",
       "  <thead>\n",
       "    <tr style=\"text-align: right;\">\n",
       "      <th></th>\n",
       "      <th>tab_name</th>\n",
       "    </tr>\n",
       "  </thead>\n",
       "  <tbody>\n",
       "    <tr>\n",
       "      <th>0</th>\n",
       "      <td>ryanair_reviews</td>\n",
       "    </tr>\n",
       "  </tbody>\n",
       "</table>\n",
       "</div>"
      ],
      "text/plain": [
       "          tab_name\n",
       "0  ryanair_reviews"
      ]
     },
     "execution_count": 65,
     "metadata": {},
     "output_type": "execute_result"
    }
   ],
   "source": [
    "statement = \"SHOW TABLES in {}\".format(database_name)\n",
    "\n",
    "df_show = pd.read_sql(statement, conn)\n",
    "df_show.head(5)"
   ]
  },
  {
   "cell_type": "code",
   "execution_count": 66,
   "metadata": {},
   "outputs": [
    {
     "name": "stdout",
     "output_type": "stream",
     "text": [
      "SELECT * FROM team4.ryanair_reviews\n",
      "    LIMIT 100\n"
     ]
    }
   ],
   "source": [
    "statement = \"\"\"SELECT * FROM {}.{}\n",
    "    LIMIT 100\"\"\".format(\n",
    "    database_name, table_name\n",
    ")\n",
    "\n",
    "print(statement)"
   ]
  },
  {
   "cell_type": "code",
   "execution_count": 67,
   "metadata": {},
   "outputs": [
    {
     "data": {
      "text/html": [
       "<div>\n",
       "<style scoped>\n",
       "    .dataframe tbody tr th:only-of-type {\n",
       "        vertical-align: middle;\n",
       "    }\n",
       "\n",
       "    .dataframe tbody tr th {\n",
       "        vertical-align: top;\n",
       "    }\n",
       "\n",
       "    .dataframe thead th {\n",
       "        text-align: right;\n",
       "    }\n",
       "</style>\n",
       "<table border=\"1\" class=\"dataframe\">\n",
       "  <thead>\n",
       "    <tr style=\"text-align: right;\">\n",
       "      <th></th>\n",
       "      <th>date_published</th>\n",
       "      <th>overall_rating</th>\n",
       "      <th>passenger_country</th>\n",
       "      <th>trip_verified</th>\n",
       "      <th>comment_title</th>\n",
       "      <th>comment</th>\n",
       "      <th>aircraft</th>\n",
       "      <th>type_of_traveller</th>\n",
       "      <th>seat_type</th>\n",
       "      <th>origin</th>\n",
       "      <th>destination</th>\n",
       "      <th>date_flown</th>\n",
       "      <th>seat_comfort</th>\n",
       "      <th>cabin_staff_service</th>\n",
       "      <th>food_and_beverages</th>\n",
       "      <th>ground_service</th>\n",
       "      <th>value_for_money</th>\n",
       "      <th>recommended</th>\n",
       "      <th>inflight_entertainment</th>\n",
       "      <th>wifi_and_connectivity</th>\n",
       "    </tr>\n",
       "  </thead>\n",
       "  <tbody>\n",
       "    <tr>\n",
       "      <th>0</th>\n",
       "      <td>None</td>\n",
       "      <td>None</td>\n",
       "      <td>10</td>\n",
       "      <td>United Kingdom</td>\n",
       "      <td>Not Verified</td>\n",
       "      <td>\"\"\"bang on time and smooth flights\"\"\"</td>\n",
       "      <td>Flew back from Faro to London Luton Friday 2nd...</td>\n",
       "      <td>Boeing 737 900</td>\n",
       "      <td>Family Leisure</td>\n",
       "      <td>Economy Class</td>\n",
       "      <td>Faro</td>\n",
       "      <td>None</td>\n",
       "      <td>None</td>\n",
       "      <td>4.0</td>\n",
       "      <td>5.0</td>\n",
       "      <td>3.0</td>\n",
       "      <td>4.0</td>\n",
       "      <td>4.0</td>\n",
       "      <td>NaN</td>\n",
       "      <td>NaN</td>\n",
       "    </tr>\n",
       "    <tr>\n",
       "      <th>1</th>\n",
       "      <td>None</td>\n",
       "      <td>None</td>\n",
       "      <td>10</td>\n",
       "      <td>United Kingdom</td>\n",
       "      <td>Trip Verified</td>\n",
       "      <td>\"\"\"Another good affordable flight\"\"\"</td>\n",
       "      <td>\"Another good affordable flight with Ryanair. ...</td>\n",
       "      <td>pleasant staff at check-in and on board. We u...</td>\n",
       "      <td></td>\n",
       "      <td>Couple Leisure</td>\n",
       "      <td>Economy Class</td>\n",
       "      <td>None</td>\n",
       "      <td>None</td>\n",
       "      <td>NaN</td>\n",
       "      <td>3.0</td>\n",
       "      <td>5.0</td>\n",
       "      <td>3.0</td>\n",
       "      <td>5.0</td>\n",
       "      <td>5.0</td>\n",
       "      <td>NaN</td>\n",
       "    </tr>\n",
       "    <tr>\n",
       "      <th>2</th>\n",
       "      <td>None</td>\n",
       "      <td>None</td>\n",
       "      <td>10</td>\n",
       "      <td>United Kingdom</td>\n",
       "      <td>Trip Verified</td>\n",
       "      <td>“Really impressed!”</td>\n",
       "      <td>\"Really impressed! You get what you pay for</td>\n",
       "      <td>this flight only cost £19.99. The seats were ...</td>\n",
       "      <td>and there was tons of legroom! (not in an eme...</td>\n",
       "      <td>flies almost everywhere</td>\n",
       "      <td>\"</td>\n",
       "      <td>None</td>\n",
       "      <td>None</td>\n",
       "      <td>NaN</td>\n",
       "      <td>NaN</td>\n",
       "      <td>NaN</td>\n",
       "      <td>NaN</td>\n",
       "      <td>5.0</td>\n",
       "      <td>5.0</td>\n",
       "      <td>4.0</td>\n",
       "    </tr>\n",
       "    <tr>\n",
       "      <th>3</th>\n",
       "      <td>None</td>\n",
       "      <td>None</td>\n",
       "      <td>6</td>\n",
       "      <td>United Kingdom</td>\n",
       "      <td>Trip Verified</td>\n",
       "      <td>“a decent offering from Ryanair”</td>\n",
       "      <td>\"I should like to review my flight from Faro t...</td>\n",
       "      <td>I was able to check-in my bag within less tha...</td>\n",
       "      <td>there was no communication with the passenger...</td>\n",
       "      <td>a decent offering from Ryanair.\"</td>\n",
       "      <td>Boeing 737</td>\n",
       "      <td>None</td>\n",
       "      <td>None</td>\n",
       "      <td>NaN</td>\n",
       "      <td>NaN</td>\n",
       "      <td>NaN</td>\n",
       "      <td>3.0</td>\n",
       "      <td>2.0</td>\n",
       "      <td>1.0</td>\n",
       "      <td>3.0</td>\n",
       "    </tr>\n",
       "    <tr>\n",
       "      <th>4</th>\n",
       "      <td>None</td>\n",
       "      <td>None</td>\n",
       "      <td>10</td>\n",
       "      <td>Israel</td>\n",
       "      <td>Trip Verified</td>\n",
       "      <td>“cabin crew were welcoming and friendly”</td>\n",
       "      <td>\"Flight left the gate ahead of schedule</td>\n",
       "      <td>fare was really cheap and cabin crew were wel...</td>\n",
       "      <td>Boeing 737-800</td>\n",
       "      <td>Solo Leisure</td>\n",
       "      <td>Economy Class</td>\n",
       "      <td>None</td>\n",
       "      <td>None</td>\n",
       "      <td>NaN</td>\n",
       "      <td>4.0</td>\n",
       "      <td>5.0</td>\n",
       "      <td>NaN</td>\n",
       "      <td>4.0</td>\n",
       "      <td>5.0</td>\n",
       "      <td>NaN</td>\n",
       "    </tr>\n",
       "  </tbody>\n",
       "</table>\n",
       "</div>"
      ],
      "text/plain": [
       "  date_published overall_rating passenger_country   trip_verified  \\\n",
       "0           None           None                10  United Kingdom   \n",
       "1           None           None                10  United Kingdom   \n",
       "2           None           None                10  United Kingdom   \n",
       "3           None           None                 6  United Kingdom   \n",
       "4           None           None                10          Israel   \n",
       "\n",
       "   comment_title                                   comment  \\\n",
       "0   Not Verified     \"\"\"bang on time and smooth flights\"\"\"   \n",
       "1  Trip Verified      \"\"\"Another good affordable flight\"\"\"   \n",
       "2  Trip Verified                       “Really impressed!”   \n",
       "3  Trip Verified          “a decent offering from Ryanair”   \n",
       "4  Trip Verified  “cabin crew were welcoming and friendly”   \n",
       "\n",
       "                                            aircraft  \\\n",
       "0  Flew back from Faro to London Luton Friday 2nd...   \n",
       "1  \"Another good affordable flight with Ryanair. ...   \n",
       "2        \"Really impressed! You get what you pay for   \n",
       "3  \"I should like to review my flight from Faro t...   \n",
       "4            \"Flight left the gate ahead of schedule   \n",
       "\n",
       "                                   type_of_traveller  \\\n",
       "0                                     Boeing 737 900   \n",
       "1   pleasant staff at check-in and on board. We u...   \n",
       "2   this flight only cost £19.99. The seats were ...   \n",
       "3   I was able to check-in my bag within less tha...   \n",
       "4   fare was really cheap and cabin crew were wel...   \n",
       "\n",
       "                                           seat_type  \\\n",
       "0                                     Family Leisure   \n",
       "1                                                      \n",
       "2   and there was tons of legroom! (not in an eme...   \n",
       "3   there was no communication with the passenger...   \n",
       "4                                     Boeing 737-800   \n",
       "\n",
       "                              origin    destination date_flown seat_comfort  \\\n",
       "0                      Economy Class           Faro       None         None   \n",
       "1                     Couple Leisure  Economy Class       None         None   \n",
       "2            flies almost everywhere              \"       None         None   \n",
       "3   a decent offering from Ryanair.\"     Boeing 737       None         None   \n",
       "4                       Solo Leisure  Economy Class       None         None   \n",
       "\n",
       "   cabin_staff_service  food_and_beverages  ground_service  value_for_money  \\\n",
       "0                  4.0                 5.0             3.0              4.0   \n",
       "1                  NaN                 3.0             5.0              3.0   \n",
       "2                  NaN                 NaN             NaN              NaN   \n",
       "3                  NaN                 NaN             NaN              3.0   \n",
       "4                  NaN                 4.0             5.0              NaN   \n",
       "\n",
       "   recommended  inflight_entertainment  wifi_and_connectivity  \n",
       "0          4.0                     NaN                    NaN  \n",
       "1          5.0                     5.0                    NaN  \n",
       "2          5.0                     5.0                    4.0  \n",
       "3          2.0                     1.0                    3.0  \n",
       "4          4.0                     5.0                    NaN  "
      ]
     },
     "execution_count": 67,
     "metadata": {},
     "output_type": "execute_result"
    }
   ],
   "source": [
    "df = pd.read_sql(statement, conn)\n",
    "df.head(5)"
   ]
  },
  {
   "cell_type": "markdown",
   "metadata": {},
   "source": [
    "### Create Parquet Files"
   ]
  },
  {
   "cell_type": "code",
   "execution_count": 68,
   "metadata": {},
   "outputs": [],
   "source": [
    "table_name_parquet = \"ryanair_reviews_parquet\"\n",
    "s3_path_parquet = \"s3://{}/ryanair-data/parquet\".format(bucket)"
   ]
  },
  {
   "cell_type": "code",
   "execution_count": 69,
   "metadata": {},
   "outputs": [
    {
     "name": "stdout",
     "output_type": "stream",
     "text": [
      "CREATE TABLE IF NOT EXISTS team4.ryanair_reviews_parquet\n",
      "WITH (format = 'PARQUET', external_location = 's3://team-4-project-data/ryanair-data/parquet', partitioned_by = ARRAY['year']) AS\n",
      "SELECT date_published,\n",
      "        overall_rating, \n",
      "        passenger_country,\n",
      "        trip_verified,\n",
      "        comment_title,\n",
      "        comment,\n",
      "        aircraft,\n",
      "        type_of_traveller,\n",
      "        seat_type,\n",
      "        origin,  \n",
      "        destination,\n",
      "        seat_comfort,\n",
      "        cabin_staff_service,\n",
      "        food_and_beverages,\n",
      "        ground_service,\n",
      "        value_for_money,\n",
      "        recommended,    \n",
      "        inflight_entertainment, \n",
      "        wifi_and_connectivity,\n",
      "        DATE(date_flown) AS date_flown,\n",
      "        CAST(YEAR(DATE(date_flown)) AS INTEGER) AS year\n",
      "FROM team4.ryanair_reviews\n"
     ]
    }
   ],
   "source": [
    "# SQL statement to execute\n",
    "statement = \"\"\"CREATE TABLE IF NOT EXISTS {}.{}\n",
    "WITH (format = 'PARQUET', external_location = '{}', partitioned_by = ARRAY['year']) AS\n",
    "SELECT date_published,\n",
    "        overall_rating, \n",
    "        passenger_country,\n",
    "        trip_verified,\n",
    "        comment_title,\n",
    "        comment,\n",
    "        aircraft,\n",
    "        type_of_traveller,\n",
    "        seat_type,\n",
    "        origin,  \n",
    "        destination,\n",
    "        seat_comfort,\n",
    "        cabin_staff_service,\n",
    "        food_and_beverages,\n",
    "        ground_service,\n",
    "        value_for_money,\n",
    "        recommended,    \n",
    "        inflight_entertainment, \n",
    "        wifi_and_connectivity,\n",
    "        DATE(date_flown) AS date_flown,\n",
    "        CAST(YEAR(DATE(date_flown)) AS INTEGER) AS year\n",
    "FROM {}.{}\"\"\".format(\n",
    "    database_name, table_name_parquet, s3_path_parquet, database_name, table_name\n",
    ")\n",
    "\n",
    "print(statement)"
   ]
  },
  {
   "cell_type": "code",
   "execution_count": 70,
   "metadata": {},
   "outputs": [
    {
     "data": {
      "text/html": [
       "<div>\n",
       "<style scoped>\n",
       "    .dataframe tbody tr th:only-of-type {\n",
       "        vertical-align: middle;\n",
       "    }\n",
       "\n",
       "    .dataframe tbody tr th {\n",
       "        vertical-align: top;\n",
       "    }\n",
       "\n",
       "    .dataframe thead th {\n",
       "        text-align: right;\n",
       "    }\n",
       "</style>\n",
       "<table border=\"1\" class=\"dataframe\">\n",
       "  <thead>\n",
       "    <tr style=\"text-align: right;\">\n",
       "      <th></th>\n",
       "      <th>rows</th>\n",
       "    </tr>\n",
       "  </thead>\n",
       "  <tbody>\n",
       "  </tbody>\n",
       "</table>\n",
       "</div>"
      ],
      "text/plain": [
       "Empty DataFrame\n",
       "Columns: [rows]\n",
       "Index: []"
      ]
     },
     "execution_count": 70,
     "metadata": {},
     "output_type": "execute_result"
    }
   ],
   "source": [
    "pd.read_sql(statement, conn)"
   ]
  },
  {
   "cell_type": "markdown",
   "metadata": {},
   "source": [
    "### Load the parquet partitions"
   ]
  },
  {
   "cell_type": "code",
   "execution_count": 71,
   "metadata": {},
   "outputs": [
    {
     "name": "stdout",
     "output_type": "stream",
     "text": [
      "MSCK REPAIR TABLE team4.ryanair_reviews_parquet\n"
     ]
    }
   ],
   "source": [
    "statement = \"MSCK REPAIR TABLE {}.{}\".format(database_name, table_name_parquet)\n",
    "\n",
    "print(statement)"
   ]
  },
  {
   "cell_type": "markdown",
   "metadata": {},
   "source": [
    "### Show the parquet partitions"
   ]
  },
  {
   "cell_type": "code",
   "execution_count": 72,
   "metadata": {},
   "outputs": [
    {
     "name": "stdout",
     "output_type": "stream",
     "text": [
      "SHOW PARTITIONS team4.ryanair_reviews_parquet\n"
     ]
    }
   ],
   "source": [
    "statement = \"SHOW PARTITIONS {}.{}\".format(database_name, table_name_parquet)\n",
    "\n",
    "print(statement)"
   ]
  },
  {
   "cell_type": "code",
   "execution_count": 73,
   "metadata": {},
   "outputs": [
    {
     "data": {
      "text/html": [
       "<div>\n",
       "<style scoped>\n",
       "    .dataframe tbody tr th:only-of-type {\n",
       "        vertical-align: middle;\n",
       "    }\n",
       "\n",
       "    .dataframe tbody tr th {\n",
       "        vertical-align: top;\n",
       "    }\n",
       "\n",
       "    .dataframe thead th {\n",
       "        text-align: right;\n",
       "    }\n",
       "</style>\n",
       "<table border=\"1\" class=\"dataframe\">\n",
       "  <thead>\n",
       "    <tr style=\"text-align: right;\">\n",
       "      <th></th>\n",
       "      <th>partition</th>\n",
       "    </tr>\n",
       "  </thead>\n",
       "  <tbody>\n",
       "    <tr>\n",
       "      <th>0</th>\n",
       "      <td>year=__HIVE_DEFAULT_PARTITION__</td>\n",
       "    </tr>\n",
       "  </tbody>\n",
       "</table>\n",
       "</div>"
      ],
      "text/plain": [
       "                         partition\n",
       "0  year=__HIVE_DEFAULT_PARTITION__"
      ]
     },
     "execution_count": 73,
     "metadata": {},
     "output_type": "execute_result"
    }
   ],
   "source": [
    "df_partitions = pd.read_sql(statement, conn)\n",
    "df_partitions.head(5)"
   ]
  },
  {
   "cell_type": "code",
   "execution_count": 74,
   "metadata": {},
   "outputs": [
    {
     "name": "stdout",
     "output_type": "stream",
     "text": [
      "SELECT * FROM team4.ryanair_reviews_parquet\n",
      "    LIMIT 100\n"
     ]
    }
   ],
   "source": [
    "statement = \"\"\"SELECT * FROM {}.{}\n",
    "    LIMIT 100\"\"\".format(\n",
    "    database_name, table_name_parquet\n",
    ")\n",
    "\n",
    "print(statement)"
   ]
  },
  {
   "cell_type": "code",
   "execution_count": 75,
   "metadata": {},
   "outputs": [
    {
     "data": {
      "text/html": [
       "<div>\n",
       "<style scoped>\n",
       "    .dataframe tbody tr th:only-of-type {\n",
       "        vertical-align: middle;\n",
       "    }\n",
       "\n",
       "    .dataframe tbody tr th {\n",
       "        vertical-align: top;\n",
       "    }\n",
       "\n",
       "    .dataframe thead th {\n",
       "        text-align: right;\n",
       "    }\n",
       "</style>\n",
       "<table border=\"1\" class=\"dataframe\">\n",
       "  <thead>\n",
       "    <tr style=\"text-align: right;\">\n",
       "      <th></th>\n",
       "      <th>date_published</th>\n",
       "      <th>overall_rating</th>\n",
       "      <th>passenger_country</th>\n",
       "      <th>trip_verified</th>\n",
       "      <th>comment_title</th>\n",
       "      <th>comment</th>\n",
       "      <th>aircraft</th>\n",
       "      <th>type_of_traveller</th>\n",
       "      <th>seat_type</th>\n",
       "      <th>origin</th>\n",
       "      <th>...</th>\n",
       "      <th>seat_comfort</th>\n",
       "      <th>cabin_staff_service</th>\n",
       "      <th>food_and_beverages</th>\n",
       "      <th>ground_service</th>\n",
       "      <th>value_for_money</th>\n",
       "      <th>recommended</th>\n",
       "      <th>inflight_entertainment</th>\n",
       "      <th>wifi_and_connectivity</th>\n",
       "      <th>date_flown</th>\n",
       "      <th>year</th>\n",
       "    </tr>\n",
       "  </thead>\n",
       "  <tbody>\n",
       "    <tr>\n",
       "      <th>0</th>\n",
       "      <td>None</td>\n",
       "      <td>None</td>\n",
       "      <td>10</td>\n",
       "      <td>United Kingdom</td>\n",
       "      <td>Not Verified</td>\n",
       "      <td>\"\"\"bang on time and smooth flights\"\"\"</td>\n",
       "      <td>Flew back from Faro to London Luton Friday 2nd...</td>\n",
       "      <td>Boeing 737 900</td>\n",
       "      <td>Family Leisure</td>\n",
       "      <td>Economy Class</td>\n",
       "      <td>...</td>\n",
       "      <td>None</td>\n",
       "      <td>4.0</td>\n",
       "      <td>5.0</td>\n",
       "      <td>3.0</td>\n",
       "      <td>4.0</td>\n",
       "      <td>4.0</td>\n",
       "      <td>NaN</td>\n",
       "      <td>NaN</td>\n",
       "      <td>None</td>\n",
       "      <td>None</td>\n",
       "    </tr>\n",
       "    <tr>\n",
       "      <th>1</th>\n",
       "      <td>None</td>\n",
       "      <td>None</td>\n",
       "      <td>10</td>\n",
       "      <td>United Kingdom</td>\n",
       "      <td>Trip Verified</td>\n",
       "      <td>\"\"\"Another good affordable flight\"\"\"</td>\n",
       "      <td>\"Another good affordable flight with Ryanair. ...</td>\n",
       "      <td>pleasant staff at check-in and on board. We u...</td>\n",
       "      <td></td>\n",
       "      <td>Couple Leisure</td>\n",
       "      <td>...</td>\n",
       "      <td>None</td>\n",
       "      <td>NaN</td>\n",
       "      <td>3.0</td>\n",
       "      <td>5.0</td>\n",
       "      <td>3.0</td>\n",
       "      <td>5.0</td>\n",
       "      <td>5.0</td>\n",
       "      <td>NaN</td>\n",
       "      <td>None</td>\n",
       "      <td>None</td>\n",
       "    </tr>\n",
       "    <tr>\n",
       "      <th>2</th>\n",
       "      <td>None</td>\n",
       "      <td>None</td>\n",
       "      <td>10</td>\n",
       "      <td>United Kingdom</td>\n",
       "      <td>Trip Verified</td>\n",
       "      <td>“Really impressed!”</td>\n",
       "      <td>\"Really impressed! You get what you pay for</td>\n",
       "      <td>this flight only cost £19.99. The seats were ...</td>\n",
       "      <td>and there was tons of legroom! (not in an eme...</td>\n",
       "      <td>flies almost everywhere</td>\n",
       "      <td>...</td>\n",
       "      <td>None</td>\n",
       "      <td>NaN</td>\n",
       "      <td>NaN</td>\n",
       "      <td>NaN</td>\n",
       "      <td>NaN</td>\n",
       "      <td>5.0</td>\n",
       "      <td>5.0</td>\n",
       "      <td>4.0</td>\n",
       "      <td>None</td>\n",
       "      <td>None</td>\n",
       "    </tr>\n",
       "    <tr>\n",
       "      <th>3</th>\n",
       "      <td>None</td>\n",
       "      <td>None</td>\n",
       "      <td>6</td>\n",
       "      <td>United Kingdom</td>\n",
       "      <td>Trip Verified</td>\n",
       "      <td>“a decent offering from Ryanair”</td>\n",
       "      <td>\"I should like to review my flight from Faro t...</td>\n",
       "      <td>I was able to check-in my bag within less tha...</td>\n",
       "      <td>there was no communication with the passenger...</td>\n",
       "      <td>a decent offering from Ryanair.\"</td>\n",
       "      <td>...</td>\n",
       "      <td>None</td>\n",
       "      <td>NaN</td>\n",
       "      <td>NaN</td>\n",
       "      <td>NaN</td>\n",
       "      <td>3.0</td>\n",
       "      <td>2.0</td>\n",
       "      <td>1.0</td>\n",
       "      <td>3.0</td>\n",
       "      <td>None</td>\n",
       "      <td>None</td>\n",
       "    </tr>\n",
       "    <tr>\n",
       "      <th>4</th>\n",
       "      <td>None</td>\n",
       "      <td>None</td>\n",
       "      <td>10</td>\n",
       "      <td>Israel</td>\n",
       "      <td>Trip Verified</td>\n",
       "      <td>“cabin crew were welcoming and friendly”</td>\n",
       "      <td>\"Flight left the gate ahead of schedule</td>\n",
       "      <td>fare was really cheap and cabin crew were wel...</td>\n",
       "      <td>Boeing 737-800</td>\n",
       "      <td>Solo Leisure</td>\n",
       "      <td>...</td>\n",
       "      <td>None</td>\n",
       "      <td>NaN</td>\n",
       "      <td>4.0</td>\n",
       "      <td>5.0</td>\n",
       "      <td>NaN</td>\n",
       "      <td>4.0</td>\n",
       "      <td>5.0</td>\n",
       "      <td>NaN</td>\n",
       "      <td>None</td>\n",
       "      <td>None</td>\n",
       "    </tr>\n",
       "  </tbody>\n",
       "</table>\n",
       "<p>5 rows × 21 columns</p>\n",
       "</div>"
      ],
      "text/plain": [
       "  date_published overall_rating passenger_country   trip_verified  \\\n",
       "0           None           None                10  United Kingdom   \n",
       "1           None           None                10  United Kingdom   \n",
       "2           None           None                10  United Kingdom   \n",
       "3           None           None                 6  United Kingdom   \n",
       "4           None           None                10          Israel   \n",
       "\n",
       "   comment_title                                   comment  \\\n",
       "0   Not Verified     \"\"\"bang on time and smooth flights\"\"\"   \n",
       "1  Trip Verified      \"\"\"Another good affordable flight\"\"\"   \n",
       "2  Trip Verified                       “Really impressed!”   \n",
       "3  Trip Verified          “a decent offering from Ryanair”   \n",
       "4  Trip Verified  “cabin crew were welcoming and friendly”   \n",
       "\n",
       "                                            aircraft  \\\n",
       "0  Flew back from Faro to London Luton Friday 2nd...   \n",
       "1  \"Another good affordable flight with Ryanair. ...   \n",
       "2        \"Really impressed! You get what you pay for   \n",
       "3  \"I should like to review my flight from Faro t...   \n",
       "4            \"Flight left the gate ahead of schedule   \n",
       "\n",
       "                                   type_of_traveller  \\\n",
       "0                                     Boeing 737 900   \n",
       "1   pleasant staff at check-in and on board. We u...   \n",
       "2   this flight only cost £19.99. The seats were ...   \n",
       "3   I was able to check-in my bag within less tha...   \n",
       "4   fare was really cheap and cabin crew were wel...   \n",
       "\n",
       "                                           seat_type  \\\n",
       "0                                     Family Leisure   \n",
       "1                                                      \n",
       "2   and there was tons of legroom! (not in an eme...   \n",
       "3   there was no communication with the passenger...   \n",
       "4                                     Boeing 737-800   \n",
       "\n",
       "                              origin  ... seat_comfort cabin_staff_service  \\\n",
       "0                      Economy Class  ...         None                 4.0   \n",
       "1                     Couple Leisure  ...         None                 NaN   \n",
       "2            flies almost everywhere  ...         None                 NaN   \n",
       "3   a decent offering from Ryanair.\"  ...         None                 NaN   \n",
       "4                       Solo Leisure  ...         None                 NaN   \n",
       "\n",
       "   food_and_beverages  ground_service  value_for_money  recommended  \\\n",
       "0                 5.0             3.0              4.0          4.0   \n",
       "1                 3.0             5.0              3.0          5.0   \n",
       "2                 NaN             NaN              NaN          5.0   \n",
       "3                 NaN             NaN              3.0          2.0   \n",
       "4                 4.0             5.0              NaN          4.0   \n",
       "\n",
       "   inflight_entertainment  wifi_and_connectivity  date_flown  year  \n",
       "0                     NaN                    NaN        None  None  \n",
       "1                     5.0                    NaN        None  None  \n",
       "2                     5.0                    4.0        None  None  \n",
       "3                     1.0                    3.0        None  None  \n",
       "4                     5.0                    NaN        None  None  \n",
       "\n",
       "[5 rows x 21 columns]"
      ]
     },
     "execution_count": 75,
     "metadata": {},
     "output_type": "execute_result"
    }
   ],
   "source": [
    "df = pd.read_sql(statement, conn)\n",
    "df.head(5)"
   ]
  }
 ],
 "metadata": {
  "kernelspec": {
   "display_name": "data_science_on_aws",
   "language": "python",
   "name": "python3"
  },
  "language_info": {
   "codemirror_mode": {
    "name": "ipython",
    "version": 3
   },
   "file_extension": ".py",
   "mimetype": "text/x-python",
   "name": "python",
   "nbconvert_exporter": "python",
   "pygments_lexer": "ipython3",
   "version": "3.7.16"
  }
 },
 "nbformat": 4,
 "nbformat_minor": 2
}
