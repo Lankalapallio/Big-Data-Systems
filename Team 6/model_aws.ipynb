{
 "cells": [
  {
   "cell_type": "markdown",
   "metadata": {},
   "source": [
    "## Intro\n",
    "This file is used to run in AWS with the S3 bucket set up."
   ]
  },
  {
   "cell_type": "code",
   "execution_count": null,
   "metadata": {},
   "outputs": [],
   "source": [
    "import pandas as pd\n",
    "import numpy as np\n",
    "from tensorflow.keras.preprocessing.image import ImageDataGenerator\n",
    "from io import BytesIO\n",
    "from PIL import Image\n",
    "import boto3\n",
    "import os\n",
    "import matplotlib.pyplot as plt\n",
    "import tensorflow as tf\n",
    "from tensorflow import keras\n",
    "from tensorflow.keras import layers\n",
    "from tensorflow.keras.models import Sequential"
   ]
  },
  {
   "cell_type": "code",
   "execution_count": null,
   "metadata": {},
   "outputs": [],
   "source": [
    "# Initialize S3 client\n",
    "s3_client = boto3.client('s3')"
   ]
  },
  {
   "cell_type": "code",
   "execution_count": null,
   "metadata": {},
   "outputs": [],
   "source": [
    "# Function to downlaod image from S3 bucket\n",
    "\n",
    "def open_image_from_s3(bucket_name, key):\n",
    "    response = s3_client.get_object(Bucket=bucket_name, Key=key)\n",
    "    img_data = response['Body'].read()\n",
    "    img = Image.open(BytesIO(img_data))\n",
    "    return img"
   ]
  },
  {
   "cell_type": "code",
   "execution_count": null,
   "metadata": {},
   "outputs": [],
   "source": [
    "# S3 bucket\n",
    "bucket_name = 'sage,aler-team6-distracted-drivers'\n",
    "\n",
    "# Excel file with image data path\n",
    "excel_file = 'driver_imgs_list.csv'\n",
    "data_df = pd.read_csv(excel_file)\n",
    "\n",
    "#Selected image names for specific driver\n",
    "driver_p014_df = data_df[data_df['subject'] == 'p014']\n",
    "image_counts = {f'c{i}': 0 for i in range(10)}\n",
    "sampled_images = []\n",
    "\n",
    "# Creating a scrap folder to save the images so S3 bucket images aren't altered\n",
    "save_dir = '/home/sagemaker-user/Big-Data-Systems/Team 6/scrap_photo'\"DS5100_ Group 6 Presentation.pdf\"\n",
    "os.makedirs(save_dir, exist_ok=True)"
   ]
  },
  {
   "cell_type": "code",
   "execution_count": null,
   "metadata": {},
   "outputs": [],
   "source": [
    "# Saving selected images\n",
    "\n",
    "for index, row in driver_p014_df.itrerrows():\n",
    "    if image_counts[row['classname']] < 20:\n",
    "        key = f\"Imgs/train/{row['classname']}/{row['img']}\"\n",
    "        img = open_image_from_s3(bucket_name, key)\n",
    "        sampled_images.append((img, row['classname']))\n",
    "        img.save(os.path.join(save_dir, os.path.basename(key)))\n",
    "\n",
    "        image_counts[row['classname']] += 1        "
   ]
  },
  {
   "cell_type": "code",
   "execution_count": null,
   "metadata": {},
   "outputs": [],
   "source": [
    "sampled_df = pd.DataFrame(sampled_images, columns=['img', 'classnmame'])"
   ]
  },
  {
   "cell_type": "code",
   "execution_count": null,
   "metadata": {},
   "outputs": [],
   "source": [
    "np. random.seed(333)\n",
    "\n",
    "datagen = ImageDataGenerator(rescale=1./255, validation_split=0.2)\n",
    "\n",
    "img_height = 180\n",
    "img_width = 180\n",
    "batch_size = 8\n",
    "\n",
    "train_ds = datagen.flow_from_dataframe(\n",
    "    dataframe=sampled_df,\n",
    "    x_col='img',\n",
    "    y_col='classname',\n",
    "    target_size=(img_height, img_width),\n",
    "    batch_size=batch_size,\n",
    "    subset='training'\n",
    ")\n",
    "\n",
    "valid_ds = datagen.flow_from_dataframe(\n",
    "    dataframe=sampled_df,\n",
    "    x_col='img',\n",
    "    y_col='classname',\n",
    "    target_size=(img_height, img_width),\n",
    "    batch_size=batch_size,\n",
    "    subset='validation'\n",
    ")"
   ]
  },
  {
   "cell_type": "code",
   "execution_count": null,
   "metadata": {},
   "outputs": [],
   "source": [
    "%%html\n",
    "\n",
    "<p><b>Shutting down your kernel for this notebook to release resources.</b></p>\n",
    "<button class=\"sm-command-button\" data-commandlinker-command=\"kernelmenu:shutdown\" style=\"display:none;\">Shutdown Kernel</button>\n",
    "        \n",
    "<script>\n",
    "try {\n",
    "    els = document.getElementsByClassName(\"sm-command-button\");\n",
    "    els[0].click();\n",
    "}\n",
    "catch(err) {\n",
    "    // NoOp\n",
    "}    \n",
    "</script>"
   ]
  },
  {
   "cell_type": "code",
   "execution_count": null,
   "metadata": {},
   "outputs": [],
   "source": [
    "%%javascript\n",
    "\n",
    "try {\n",
    "    Jupyter.notebook.save_checkpoint();\n",
    "    Jupyter.notebook.session.delete();\n",
    "}\n",
    "catch(err) {\n",
    "    // NoOp\n",
    "}"
   ]
  }
 ],
 "metadata": {
  "kernelspec": {
   "display_name": "Python 3",
   "language": "python",
   "name": "python3"
  },
  "language_info": {
   "name": "python",
   "version": "3.9.13"
  }
 },
 "nbformat": 4,
 "nbformat_minor": 2
}
