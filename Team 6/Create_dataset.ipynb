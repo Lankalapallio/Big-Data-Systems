{
 "cells": [
  {
   "cell_type": "code",
   "execution_count": 1,
   "metadata": {},
   "outputs": [],
   "source": [
    "import pandas as pd\n",
    "import os\n",
    "import shutil\n",
    "import random"
   ]
  },
  {
   "cell_type": "markdown",
   "metadata": {},
   "source": [
    "## Splitting Data set\n",
    "\n",
    "The original dataset is too large to train a model efficiently.  \n",
    "20 unique drivers will be chosen randomly from the driver_imgs_list.csv.\n",
    "An image from each classification will be chosen for each driver.  \n",
    "We will only pull data from the original train subset since these are labeled."
   ]
  },
  {
   "cell_type": "code",
   "execution_count": 2,
   "metadata": {},
   "outputs": [],
   "source": [
    "random.seed(333)\n",
    "\n",
    "images_dir = 'Imgs/train/'\n",
    "excel_file = 'driver_imgs_list.csv'\n",
    "output_dir = 'limited_dataset'\n",
    "\n",
    "os.makedirs(output_dir, exist_ok=True)"
   ]
  },
  {
   "cell_type": "code",
   "execution_count": 3,
   "metadata": {},
   "outputs": [],
   "source": [
    "df = pd.read_csv(excel_file)\n",
    "\n",
    "# List of unique drivers\n",
    "unique_drivers = df['subject'].unique()\n",
    "\n",
    "random.shuffle(unique_drivers)\n",
    "\n",
    "# Selecting the first 20 drivers\n",
    "drivers = unique_drivers[:20]\n",
    "\n",
    "image_counts = {f'c{i}': 0 for i in range(10)}"
   ]
  },
  {
   "cell_type": "code",
   "execution_count": 4,
   "metadata": {},
   "outputs": [],
   "source": [
    "driver_photo_counts = {driver_id: 0 for driver_id in drivers}\n",
    "selected_images = {driver_id: {f'c{i}': False for i in range(10)} for driver_id in drivers}\n"
   ]
  },
  {
   "cell_type": "code",
   "execution_count": 5,
   "metadata": {},
   "outputs": [],
   "source": [
    "for driver_id in drivers:\n",
    "\n",
    "    driver_df = df[df['subject'] == driver_id]\n",
    "    driver_df =driver_df.sample(frac=1).reset_index(drop=True)\n",
    "\n",
    "    for index, row in driver_df.iterrows():\n",
    "        if image_counts[row['classname']] >= 20:\n",
    "            continue\n",
    "\n",
    "        if not selected_images[driver_id][row['classname']]:\n",
    "            src_path = os.path.join(images_dir, row['classname'], row['img'])\n",
    "            dst_path = os.path.join(output_dir, row['img'])\n",
    "            shutil.copyfile(src_path, dst_path)\n",
    "\n",
    "            image_counts[row['classname']] +=1\n",
    "            driver_photo_counts[driver_id] += 1\n",
    "            selected_images[driver_id][row['classname']] = True\n",
    "\n",
    "        \n",
    "        if all(count >= 20 for count in image_counts.values()):\n",
    "            break\n",
    "\n",
    "    if all(count >= 20 for count in image_counts.values()):\n",
    "        break\n"
   ]
  }
 ],
 "metadata": {
  "kernelspec": {
   "display_name": "Python 3",
   "language": "python",
   "name": "python3"
  },
  "language_info": {
   "codemirror_mode": {
    "name": "ipython",
    "version": 3
   },
   "file_extension": ".py",
   "mimetype": "text/x-python",
   "name": "python",
   "nbconvert_exporter": "python",
   "pygments_lexer": "ipython3",
   "version": "3.9.13"
  }
 },
 "nbformat": 4,
 "nbformat_minor": 2
}
