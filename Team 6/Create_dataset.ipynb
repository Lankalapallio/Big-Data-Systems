{
 "cells": [
  {
   "cell_type": "code",
   "execution_count": 1,
   "metadata": {},
   "outputs": [],
   "source": [
    "import pandas as pd\n",
    "import os\n",
    "import shutil\n",
    "import random"
   ]
  },
  {
   "cell_type": "markdown",
   "metadata": {},
   "source": [
    "## Splitting Data set\n",
    "\n",
    "The original dataset is too large to train a model efficiently.  \n",
    "One driver, p014 will be taken from the driver_imgs_list.csv.\n",
    "10 images from each classification will be chosen for driver p014.  \n",
    "We will only pull data from the original train subset since these are labeled."
   ]
  },
  {
   "cell_type": "code",
   "execution_count": 2,
   "metadata": {},
   "outputs": [],
   "source": [
    "random.seed(333)\n",
    "\n",
    "images_dir = 'Imgs/train/'\n",
    "excel_file = 'driver_imgs_list.csv'\n",
    "output_dir = 'limited_dataset'\n",
    "\n",
    "os.makedirs(output_dir, exist_ok=True)"
   ]
  },
  {
   "cell_type": "code",
   "execution_count": 3,
   "metadata": {},
   "outputs": [],
   "source": [
    "df = pd.read_csv(excel_file)\n",
    "\n",
    "# Filter rows for driver p014\n",
    "driver_p014_df = df[df['subject'] == 'p014']\n",
    "\n",
    "\n",
    "image_counts = {f'c{i}': 0 for i in range(10)}"
   ]
  },
  {
   "cell_type": "code",
   "execution_count": 4,
   "metadata": {},
   "outputs": [],
   "source": [
    "# Loop through the filtered DataFrame to select 20 images from each class\n",
    "for index, row in driver_p014_df.iterrows():\n",
    "    if image_counts[row['classname']] < 20:\n",
    "        image_path = os.path.join(images_dir, row['classname'], row['img'])\n",
    "        output_image_path = os.path.join(output_dir, row['img'])\n",
    "        shutil.copy(image_path, output_image_path)\n",
    "        image_counts[row['classname']] += 1"
   ]
  }
 ],
 "metadata": {
  "kernelspec": {
   "display_name": "Python 3",
   "language": "python",
   "name": "python3"
  },
  "language_info": {
   "codemirror_mode": {
    "name": "ipython",
    "version": 3
   },
   "file_extension": ".py",
   "mimetype": "text/x-python",
   "name": "python",
   "nbconvert_exporter": "python",
   "pygments_lexer": "ipython3",
   "version": "3.9.13"
  }
 },
 "nbformat": 4,
 "nbformat_minor": 2
}
