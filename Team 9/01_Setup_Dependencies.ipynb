{
 "cells": [
  {
   "cell_type": "markdown",
   "metadata": {},
   "source": [
    "# Setup All Workshop Dependencies\n",
    "\n",
    "## _Note:  This Notebook Will Take A Few Minutes To Complete._\n",
    "\n",
    "## _Please Be Patient._"
   ]
  },
  {
   "cell_type": "code",
   "execution_count": 5,
   "metadata": {},
   "outputs": [
    {
     "name": "stdout",
     "output_type": "stream",
     "text": [
      "Python 3.10.13\n"
     ]
    }
   ],
   "source": [
    "!python --version"
   ]
  },
  {
   "cell_type": "code",
   "execution_count": 6,
   "metadata": {
    "scrolled": true
   },
   "outputs": [
    {
     "name": "stdout",
     "output_type": "stream",
     "text": [
      "Package                               Version\n",
      "------------------------------------- -----------------\n",
      "absl-py                               2.1.0\n",
      "accelerate                            0.21.0\n",
      "aiobotocore                           2.7.0\n",
      "aiohttp                               3.9.1\n",
      "aioitertools                          0.11.0\n",
      "aiosignal                             1.3.1\n",
      "aiosqlite                             0.19.0\n",
      "altair                                5.2.0\n",
      "amazon-codewhisperer-jupyterlab-ext   2.0.1\n",
      "amazon_sagemaker_jupyter_scheduler    3.0.6\n",
      "annotated-types                       0.6.0\n",
      "ansi2html                             0.0.0\n",
      "ansiwrap                              0.8.4\n",
      "antlr4-python3-runtime                4.9.3\n",
      "anyio                                 3.7.1\n",
      "appdirs                               1.4.4\n",
      "archspec                              0.2.2\n",
      "argon2-cffi                           23.1.0\n",
      "argon2-cffi-bindings                  21.2.0\n",
      "arrow                                 1.3.0\n",
      "astroid                               3.0.2\n",
      "asttokens                             2.4.1\n",
      "astunparse                            1.6.3\n",
      "async-lru                             2.0.4\n",
      "async-timeout                         4.0.3\n",
      "attrs                                 23.2.0\n",
      "autogluon                             0.8.2\n",
      "autogluon.common                      0.8.2\n",
      "autogluon.core                        0.8.2\n",
      "autogluon.features                    0.8.2\n",
      "autogluon.multimodal                  0.8.2\n",
      "autogluon.tabular                     0.8.2\n",
      "autogluon.timeseries                  0.8.2\n",
      "autopep8                              2.0.4\n",
      "autovizwidget                         0.21.0\n",
      "aws-embedded-metrics                  3.2.0\n",
      "aws-glue-sessions                     1.0.4\n",
      "Babel                                 2.14.0\n",
      "beautifulsoup4                        4.12.3\n",
      "binaryornot                           0.4.4\n",
      "black                                 24.1.1\n",
      "bleach                                6.1.0\n",
      "blinker                               1.7.0\n",
      "blis                                  0.7.10\n",
      "boltons                               23.1.1\n",
      "boto3                                 1.28.64\n",
      "botocore                              1.31.64\n",
      "Brotli                                1.0.9\n",
      "cached-property                       1.5.2\n",
      "cachetools                            5.3.2\n",
      "catalogue                             2.0.10\n",
      "catboost                              1.2.2\n",
      "certifi                               2023.11.17\n",
      "cffi                                  1.16.0\n",
      "chardet                               5.2.0\n",
      "charset-normalizer                    3.3.2\n",
      "click                                 8.1.7\n",
      "cloudpathlib                          0.16.0\n",
      "cloudpickle                           2.2.1\n",
      "colorama                              0.4.6\n",
      "comm                                  0.2.1\n",
      "conda                                 23.11.0\n",
      "conda-libmamba-solver                 24.1.0\n",
      "conda-package-handling                2.2.0\n",
      "conda_package_streaming               0.9.0\n",
      "confection                            0.1.4\n",
      "contextlib2                           21.6.0\n",
      "contourpy                             1.2.0\n",
      "cookiecutter                          2.5.0\n",
      "croniter                              1.4.1\n",
      "cryptography                          42.0.2\n",
      "cycler                                0.12.1\n",
      "cymem                                 2.0.8\n",
      "cytoolz                               0.12.2\n",
      "dash                                  2.15.0\n",
      "dask                                  2024.1.1\n",
      "dataclasses                           0.8\n",
      "dataclasses-json                      0.6.3\n",
      "datasets                              2.16.1\n",
      "debugpy                               1.8.0\n",
      "decorator                             5.1.1\n",
      "deepmerge                             1.1.1\n",
      "defusedxml                            0.7.1\n",
      "dill                                  0.3.7\n",
      "distributed                           2024.1.1\n",
      "distro                                1.9.0\n",
      "docker-pycreds                        0.4.0\n",
      "docstring-to-markdown                 0.13\n",
      "entrypoints                           0.4\n",
      "et-xmlfile                            1.1.0\n",
      "evaluate                              0.4.1\n",
      "exceptiongroup                        1.2.0\n",
      "executing                             2.0.1\n",
      "faiss                                 1.7.4\n",
      "fastai                                2.7.14\n",
      "fastapi                               0.103.2\n",
      "fastcore                              1.5.29\n",
      "fastdownload                          0.0.7\n",
      "fastjsonschema                        2.19.1\n",
      "fastprogress                          1.0.3\n",
      "filelock                              3.13.1\n",
      "flake8                                6.1.0\n",
      "Flask                                 3.0.1\n",
      "flatbuffers                           23.5.26\n",
      "fonttools                             4.47.2\n",
      "fqdn                                  1.5.1\n",
      "frozenlist                            1.4.1\n",
      "fsspec                                2023.6.0\n",
      "future                                0.18.3\n",
      "gast                                  0.4.0\n",
      "gdown                                 5.0.1\n",
      "gitdb                                 4.0.11\n",
      "GitPython                             3.1.41\n",
      "gluonts                               0.13.7\n",
      "gmpy2                                 2.1.2\n",
      "google-api-core                       2.16.1\n",
      "google-auth                           2.27.0\n",
      "google-auth-oauthlib                  1.0.0\n",
      "google-pasta                          0.2.0\n",
      "googleapis-common-protos              1.62.0\n",
      "graphviz                              0.20.1\n",
      "greenlet                              3.0.1\n",
      "grpcio                                1.54.3\n",
      "gssapi                                1.8.3\n",
      "h11                                   0.14.0\n",
      "h5py                                  3.10.0\n",
      "hdijupyterutils                       0.21.0\n",
      "huggingface_hub                       0.20.2\n",
      "idna                                  3.6\n",
      "imagecodecs                           2023.8.12\n",
      "imageio                               2.33.1\n",
      "importlib-metadata                    6.10.0\n",
      "importlib-resources                   6.1.1\n",
      "iniconfig                             2.0.0\n",
      "ipykernel                             6.29.0\n",
      "ipython                               8.20.0\n",
      "ipywidgets                            8.1.1\n",
      "isoduration                           20.11.0\n",
      "isort                                 5.13.2\n",
      "itsdangerous                          2.1.2\n",
      "jax                                   0.4.20\n",
      "jaxlib                                0.4.14\n",
      "jedi                                  0.19.1\n",
      "Jinja2                                3.1.3\n",
      "jmespath                              1.0.1\n",
      "joblib                                1.3.2\n",
      "json5                                 0.9.14\n",
      "jsonpatch                             1.33\n",
      "jsonpath-ng                           1.6.1\n",
      "jsonpointer                           2.4\n",
      "jsonschema                            4.17.3\n",
      "jupyter                               1.0.0\n",
      "jupyter_ai                            2.8.1\n",
      "jupyter_ai_magics                     2.8.1\n",
      "jupyter_client                        8.6.0\n",
      "jupyter-console                       6.6.3\n",
      "jupyter_core                          5.7.1\n",
      "jupyter-dash                          0.4.2\n",
      "jupyter-events                        0.6.3\n",
      "jupyter-lsp                           2.2.2\n",
      "jupyter_scheduler                     2.4.0\n",
      "jupyter_server                        2.10.0\n",
      "jupyter-server-mathjax                0.2.6\n",
      "jupyter_server_proxy                  4.1.0\n",
      "jupyter_server_terminals              0.5.2\n",
      "jupyterlab                            4.0.12\n",
      "jupyterlab_git                        0.50.0\n",
      "jupyterlab-lsp                        5.0.2\n",
      "jupyterlab_pygments                   0.3.0\n",
      "jupyterlab_server                     2.24.0\n",
      "jupyterlab-widgets                    3.0.9\n",
      "keras                                 2.12.0\n",
      "Keras-Preprocessing                   1.1.2\n",
      "kiwisolver                            1.4.5\n",
      "krb5                                  0.5.1\n",
      "langchain                             0.0.350\n",
      "langchain-community                   0.0.7\n",
      "langchain-core                        0.1.3\n",
      "langcodes                             3.3.0\n",
      "langsmith                             0.0.85\n",
      "libmambapy                            1.5.6\n",
      "lightgbm                              3.3.5\n",
      "lightning-utilities                   0.10.1\n",
      "llvmlite                              0.41.1\n",
      "locket                                1.0.0\n",
      "Markdown                              3.5.2\n",
      "markdown-it-py                        3.0.0\n",
      "MarkupSafe                            2.1.4\n",
      "marshmallow                           3.20.2\n",
      "matplotlib                            3.8.2\n",
      "matplotlib-inline                     0.1.6\n",
      "mccabe                                0.7.0\n",
      "mdurl                                 0.1.2\n",
      "menuinst                              2.0.2\n",
      "mistune                               3.0.2\n",
      "ml-dtypes                             0.3.2\n",
      "mlforecast                            0.7.3\n",
      "mock                                  5.1.0\n",
      "model-index                           0.1.11\n",
      "mpmath                                1.3.0\n",
      "msgpack                               1.0.7\n",
      "multidict                             6.0.4\n",
      "multiprocess                          0.70.15\n",
      "munkres                               1.1.4\n",
      "murmurhash                            1.0.10\n",
      "mypy-extensions                       1.0.0\n",
      "nbclient                              0.8.0\n",
      "nbconvert                             7.14.2\n",
      "nbdime                                4.0.1\n",
      "nbformat                              5.9.2\n",
      "nest_asyncio                          1.6.0\n",
      "networkx                              3.2.1\n",
      "nlpaug                                1.1.11\n",
      "nltk                                  3.8.1\n",
      "nose                                  1.3.7\n",
      "notebook                              7.0.7\n",
      "notebook_shim                         0.2.3\n",
      "nptyping                              2.4.1\n",
      "numba                                 0.58.1\n",
      "numexpr                               2.8.7\n",
      "numpy                                 1.26.3\n",
      "oauthlib                              3.2.2\n",
      "omegaconf                             2.2.3\n",
      "openai                                0.28.1\n",
      "openapi-schema-pydantic               1.2.4\n",
      "openmim                               0.3.7\n",
      "openpyxl                              3.1.2\n",
      "opt-einsum                            3.3.0\n",
      "ordered-set                           4.1.0\n",
      "overrides                             7.7.0\n",
      "packaging                             23.2\n",
      "pandas                                2.1.4\n",
      "pandas-stubs                          2.1.4.231227\n",
      "pandocfilters                         1.5.0\n",
      "papermill                             2.4.0\n",
      "parso                                 0.8.3\n",
      "partd                                 1.4.1\n",
      "pathos                                0.3.2\n",
      "pathspec                              0.12.1\n",
      "pathtools                             0.1.2\n",
      "pathy                                 0.10.2\n",
      "patsy                                 0.5.6\n",
      "pexpect                               4.9.0\n",
      "pickleshare                           0.7.5\n",
      "Pillow                                9.5.0\n",
      "pip                                   23.3.2\n",
      "pkgutil_resolve_name                  1.3.10\n",
      "platformdirs                          4.2.0\n",
      "plotly                                5.18.0\n",
      "pluggy                                1.4.0\n",
      "ply                                   3.11\n",
      "pox                                   0.3.4\n",
      "ppft                                  1.7.6.8\n",
      "preshed                               3.0.9\n",
      "prometheus-client                     0.19.0\n",
      "prompt-toolkit                        3.0.42\n",
      "protobuf                              4.21.12\n",
      "psutil                                5.9.8\n",
      "ptyprocess                            0.7.0\n",
      "pure-eval                             0.2.2\n",
      "pure-sasl                             0.6.2\n",
      "pyarrow                               12.0.1\n",
      "pyarrow-hotfix                        0.6\n",
      "pyasn1                                0.5.1\n",
      "pyasn1-modules                        0.3.0\n",
      "pycodestyle                           2.11.1\n",
      "pycosat                               0.6.6\n",
      "pycparser                             2.21\n",
      "pydantic                              1.10.13\n",
      "pydantic_core                         2.14.3\n",
      "pydocstyle                            6.3.0\n",
      "pyflakes                              3.1.0\n",
      "Pygments                              2.17.2\n",
      "PyHive                                0.7.0\n",
      "PyJWT                                 2.8.0\n",
      "pylint                                3.0.3\n",
      "pyOpenSSL                             24.0.0\n",
      "pyparsing                             3.1.1\n",
      "PyQt5                                 5.15.9\n",
      "PyQt5-sip                             12.12.2\n",
      "pyrsistent                            0.20.0\n",
      "PySocks                               1.7.1\n",
      "pyspnego                              0.9.1\n",
      "pytesseract                           0.3.10\n",
      "pytest                                8.0.0\n",
      "pytest-subtests                       0.11.0\n",
      "python-dateutil                       2.8.2\n",
      "python-json-logger                    2.0.7\n",
      "python-lsp-jsonrpc                    1.1.2\n",
      "python-lsp-server                     1.9.0\n",
      "python-slugify                        8.0.3\n",
      "pytoolconfig                          1.2.5\n",
      "pytorch-lightning                     2.0.9\n",
      "pytorch-metric-learning               1.7.3\n",
      "pytz                                  2023.3\n",
      "pyu2f                                 0.1.5\n",
      "PyWavelets                            1.4.1\n",
      "PyYAML                                6.0.1\n",
      "pyzmq                                 25.1.2\n",
      "qtconsole                             5.5.1\n",
      "QtPy                                  2.4.1\n",
      "regex                                 2023.12.25\n",
      "requests                              2.31.0\n",
      "requests-kerberos                     0.14.0\n",
      "requests-oauthlib                     1.3.1\n",
      "responses                             0.18.0\n",
      "retrying                              1.3.3\n",
      "rfc3339-validator                     0.1.4\n",
      "rfc3986-validator                     0.1.1\n",
      "rich                                  13.7.0\n",
      "rope                                  1.12.0\n",
      "rsa                                   4.9\n",
      "ruamel.yaml                           0.18.5\n",
      "ruamel.yaml.clib                      0.2.7\n",
      "s3transfer                            0.7.0\n",
      "sacremoses                            0.0.53\n",
      "safetensors                           0.3.3\n",
      "sagemaker                             2.198.1\n",
      "sagemaker-headless-execution-driver   0.0.12\n",
      "sagemaker-jupyterlab-emr-extension    0.1.9\n",
      "sagemaker-jupyterlab-extension        0.2.0\n",
      "sagemaker-jupyterlab-extension-common 0.1.9\n",
      "sagemaker-kernel-wrapper              0.0.2\n",
      "sagemaker-studio-analytics-extension  0.0.21\n",
      "sagemaker-studio-sparkmagic-lib       0.1.4\n",
      "sasl                                  0.3.1\n",
      "schema                                0.7.5\n",
      "scikit-image                          0.19.3\n",
      "scikit-learn                          1.3.2\n",
      "SciPy                                 1.11.4\n",
      "Send2Trash                            1.8.2\n",
      "sentencepiece                         0.1.99\n",
      "sentry-sdk                            1.40.0\n",
      "seqeval                               1.2.2\n",
      "setproctitle                          1.3.3\n",
      "setuptools                            69.0.3\n",
      "shellingham                           1.5.4\n",
      "simpervisor                           1.0.0\n",
      "sip                                   6.7.12\n",
      "six                                   1.16.0\n",
      "smart-open                            5.2.1\n",
      "smdebug-rulesconfig                   1.0.1\n",
      "smmap                                 5.0.0\n",
      "sniffio                               1.3.0\n",
      "snowballstemmer                       2.2.0\n",
      "sortedcontainers                      2.4.0\n",
      "soupsieve                             2.5\n",
      "spacy                                 3.7.2\n",
      "spacy-legacy                          3.0.12\n",
      "spacy-loggers                         1.0.5\n",
      "sparkmagic                            0.21.0\n",
      "SQLAlchemy                            1.4.49\n",
      "srsly                                 2.4.8\n",
      "stack-data                            0.6.2\n",
      "starlette                             0.27.0\n",
      "statsforecast                         1.4.0\n",
      "statsmodels                           0.14.1\n",
      "supervisor                            4.2.5\n",
      "sympy                                 1.12\n",
      "tabulate                              0.9.0\n",
      "tblib                                 1.7.0\n",
      "tenacity                              8.2.3\n",
      "tensorboard                           2.12.3\n",
      "tensorboard-data-server               0.7.0\n",
      "tensorflow                            2.12.1\n",
      "tensorflow-estimator                  2.12.0\n",
      "termcolor                             2.4.0\n",
      "terminado                             0.18.0\n",
      "text-unidecode                        1.3\n",
      "textwrap3                             0.9.2\n",
      "thinc                                 8.2.2\n",
      "threadpoolctl                         3.2.0\n",
      "thrift                                0.19.0\n",
      "thrift-sasl                           0.4.3\n",
      "tifffile                              2024.1.30\n",
      "tiktoken                              0.5.2\n",
      "timm                                  0.9.12\n",
      "tinycss2                              1.2.1\n",
      "tokenizers                            0.13.3\n",
      "toml                                  0.10.2\n",
      "tomli                                 2.0.1\n",
      "tomlkit                               0.12.3\n",
      "toolz                                 0.12.1\n",
      "torch                                 2.0.0.post101\n",
      "torchmetrics                          1.0.3\n",
      "torchvision                           0.15.2a0+072ec57\n",
      "tornado                               6.3.3\n",
      "tqdm                                  4.66.1\n",
      "traitlets                             5.14.1\n",
      "transformers                          4.31.0\n",
      "truststore                            0.8.0\n",
      "typer                                 0.9.0\n",
      "types-python-dateutil                 2.8.19.20240106\n",
      "types-pytz                            2023.4.0.20240130\n",
      "typing_extensions                     4.5.0\n",
      "typing-inspect                        0.9.0\n",
      "typing-utils                          0.1.0\n",
      "typish                                1.9.3\n",
      "tzdata                                2023.4\n",
      "ujson                                 5.9.0\n",
      "unicodedata2                          15.1.0\n",
      "uri-template                          1.3.0\n",
      "urllib3                               1.26.18\n",
      "uvicorn                               0.25.0\n",
      "wandb                                 0.16.2\n",
      "wasabi                                1.1.2\n",
      "wcwidth                               0.2.13\n",
      "weasel                                0.3.4\n",
      "webcolors                             1.13\n",
      "webencodings                          0.5.1\n",
      "websocket-client                      1.7.0\n",
      "Werkzeug                              3.0.1\n",
      "whatthepatch                          1.0.5\n",
      "wheel                                 0.42.0\n",
      "widgetsnbextension                    4.0.9\n",
      "window-ops                            0.0.14\n",
      "wrapt                                 1.16.0\n",
      "xgboost                               1.7.6\n",
      "xxhash                                3.4.1\n",
      "yapf                                  0.40.1\n",
      "yarl                                  1.9.4\n",
      "zict                                  3.0.0\n",
      "zipp                                  3.17.0\n",
      "zstandard                             0.22.0\n"
     ]
    }
   ],
   "source": [
    "!pip list"
   ]
  },
  {
   "cell_type": "markdown",
   "metadata": {},
   "source": [
    "# Pip"
   ]
  },
  {
   "cell_type": "code",
   "execution_count": 7,
   "metadata": {},
   "outputs": [],
   "source": [
    "!pip install --disable-pip-version-check -q pip --upgrade > /dev/null\n",
    "!pip install --disable-pip-version-check -q wrapt --upgrade > /dev/null"
   ]
  },
  {
   "cell_type": "markdown",
   "metadata": {},
   "source": [
    "### _Ignore any warning or error message ^^ above ^^.  This is OK!_"
   ]
  },
  {
   "cell_type": "markdown",
   "metadata": {},
   "source": [
    "# AWS CLI and AWS Python SDK (boto3)"
   ]
  },
  {
   "cell_type": "code",
   "execution_count": 8,
   "metadata": {},
   "outputs": [
    {
     "name": "stdout",
     "output_type": "stream",
     "text": [
      "\u001b[31mERROR: pip's dependency resolver does not currently take into account all the packages that are installed. This behaviour is the source of the following dependency conflicts.\n",
      "jupyter-ai 2.8.1 requires faiss-cpu, which is not installed.\n",
      "aiobotocore 2.7.0 requires botocore<1.31.65,>=1.31.16, but you have botocore 1.19.56 which is incompatible.\n",
      "aws-glue-sessions 1.0.4 requires boto3>=1.21.31, but you have boto3 1.16.56 which is incompatible.\n",
      "aws-glue-sessions 1.0.4 requires botocore>=1.24.24, but you have botocore 1.19.56 which is incompatible.\n",
      "pytorch-lightning 2.0.9 requires PyYAML>=5.4, but you have pyyaml 5.3.1 which is incompatible.\n",
      "sagemaker 2.198.1 requires boto3<2.0,>=1.29.6, but you have boto3 1.16.56 which is incompatible.\n",
      "sagemaker 2.198.1 requires PyYAML~=6.0, but you have pyyaml 5.3.1 which is incompatible.\n",
      "sagemaker-studio-analytics-extension 0.0.21 requires boto3<2.0,>=1.26.49, but you have boto3 1.16.56 which is incompatible.\n",
      "sparkmagic 0.21.0 requires pandas<2.0.0,>=0.17.1, but you have pandas 2.1.4 which is incompatible.\u001b[0m\u001b[31m\n",
      "\u001b[0m"
     ]
    }
   ],
   "source": [
    "!pip install --disable-pip-version-check -q awscli==1.18.216 boto3==1.16.56 botocore==1.19.56"
   ]
  },
  {
   "cell_type": "markdown",
   "metadata": {},
   "source": [
    "### _Ignore any warning or error message ^^ above ^^.  This is OK!_"
   ]
  },
  {
   "cell_type": "markdown",
   "metadata": {},
   "source": [
    "# SageMaker"
   ]
  },
  {
   "cell_type": "code",
   "execution_count": 9,
   "metadata": {},
   "outputs": [],
   "source": [
    "!pip install --disable-pip-version-check -q sagemaker==2.29.0\n",
    "!pip install --disable-pip-version-check -q smdebug==1.0.1\n",
    "!pip install --disable-pip-version-check -q sagemaker-experiments==0.1.26"
   ]
  },
  {
   "cell_type": "markdown",
   "metadata": {},
   "source": [
    "### _Ignore any warning or error message ^^ above ^^.  This is OK!_"
   ]
  },
  {
   "cell_type": "markdown",
   "metadata": {},
   "source": [
    "# PyTorch"
   ]
  },
  {
   "cell_type": "code",
   "execution_count": 10,
   "metadata": {},
   "outputs": [
    {
     "name": "stdout",
     "output_type": "stream",
     "text": [
      "Channels:\n",
      " - pytorch\n",
      " - defaults\n",
      " - conda-forge\n",
      "Platform: linux-64\n",
      "Collecting package metadata (repodata.json): - "
     ]
    },
    {
     "name": "stderr",
     "output_type": "stream",
     "text": [
      "IOStream.flush timed out\n"
     ]
    },
    {
     "name": "stdout",
     "output_type": "stream",
     "text": []
    }
   ],
   "source": [
    "!conda install -y pytorch==1.6.0 -c pytorch"
   ]
  },
  {
   "cell_type": "markdown",
   "metadata": {},
   "source": [
    "# TensorFlow"
   ]
  },
  {
   "cell_type": "code",
   "execution_count": 11,
   "metadata": {},
   "outputs": [
    {
     "name": "stdout",
     "output_type": "stream",
     "text": [
      "\u001b[31mERROR: Could not find a version that satisfies the requirement tensorflow==2.3.1 (from versions: 2.8.0rc0, 2.8.0rc1, 2.8.0, 2.8.1, 2.8.2, 2.8.3, 2.8.4, 2.9.0rc0, 2.9.0rc1, 2.9.0rc2, 2.9.0, 2.9.1, 2.9.2, 2.9.3, 2.10.0rc0, 2.10.0rc1, 2.10.0rc2, 2.10.0rc3, 2.10.0, 2.10.1, 2.11.0rc0, 2.11.0rc1, 2.11.0rc2, 2.11.0, 2.11.1, 2.12.0rc0, 2.12.0rc1, 2.12.0, 2.12.1, 2.13.0rc0, 2.13.0rc1, 2.13.0rc2, 2.13.0, 2.13.1, 2.14.0rc0, 2.14.0rc1, 2.14.0, 2.14.1, 2.15.0rc0, 2.15.0rc1, 2.15.0, 2.15.0.post1, 2.16.0rc0)\u001b[0m\u001b[31m\n",
      "\u001b[0m\u001b[31mERROR: No matching distribution found for tensorflow==2.3.1\u001b[0m\u001b[31m\n",
      "\u001b[0m"
     ]
    }
   ],
   "source": [
    "!pip install --disable-pip-version-check -q tensorflow==2.3.1"
   ]
  },
  {
   "cell_type": "markdown",
   "metadata": {},
   "source": [
    "### _Ignore any warning or error message ^^ above ^^.  This is OK!_"
   ]
  },
  {
   "cell_type": "markdown",
   "metadata": {},
   "source": [
    "# Hugging Face Transformers (BERT)"
   ]
  },
  {
   "cell_type": "code",
   "execution_count": 12,
   "metadata": {},
   "outputs": [
    {
     "name": "stdout",
     "output_type": "stream",
     "text": [
      "  \u001b[1;31merror\u001b[0m: \u001b[1msubprocess-exited-with-error\u001b[0m\n",
      "  \n",
      "  \u001b[31m×\u001b[0m \u001b[32mpython setup.py egg_info\u001b[0m did not run successfully.\n",
      "  \u001b[31m│\u001b[0m exit code: \u001b[1;36m1\u001b[0m\n",
      "  \u001b[31m╰─>\u001b[0m \u001b[31m[2 lines of output]\u001b[0m\n",
      "  \u001b[31m   \u001b[0m /bin/sh: 1: pkg-config: not found\n",
      "  \u001b[31m   \u001b[0m Failed to find sentencepiece pkgconfig\n",
      "  \u001b[31m   \u001b[0m \u001b[31m[end of output]\u001b[0m\n",
      "  \n",
      "  \u001b[1;35mnote\u001b[0m: This error originates from a subprocess, and is likely not a problem with pip.\n",
      "\u001b[1;31merror\u001b[0m: \u001b[1mmetadata-generation-failed\u001b[0m\n",
      "\n",
      "\u001b[31m×\u001b[0m Encountered error while generating package metadata.\n",
      "\u001b[31m╰─>\u001b[0m See above for output.\n",
      "\n",
      "\u001b[1;35mnote\u001b[0m: This is an issue with the package mentioned above, not pip.\n",
      "\u001b[1;36mhint\u001b[0m: See above for details.\n"
     ]
    }
   ],
   "source": [
    "!pip install --disable-pip-version-check -q transformers==3.5.1"
   ]
  },
  {
   "cell_type": "markdown",
   "metadata": {},
   "source": [
    "### _Ignore any warning or error message ^^ above ^^.  This is OK!_"
   ]
  },
  {
   "cell_type": "markdown",
   "metadata": {},
   "source": [
    "# TorchServe"
   ]
  },
  {
   "cell_type": "code",
   "execution_count": 13,
   "metadata": {},
   "outputs": [],
   "source": [
    "!pip install --disable-pip-version-check -q torchserve==0.3.0\n",
    "!pip install --disable-pip-version-check -q torch-model-archiver==0.3.0"
   ]
  },
  {
   "cell_type": "markdown",
   "metadata": {},
   "source": [
    "### _Ignore any warning or error message ^^ above ^^.  This is OK!_"
   ]
  },
  {
   "cell_type": "markdown",
   "metadata": {},
   "source": [
    "# PyAthena"
   ]
  },
  {
   "cell_type": "code",
   "execution_count": 14,
   "metadata": {},
   "outputs": [],
   "source": [
    "!pip install --disable-pip-version-check -q PyAthena==2.1.0"
   ]
  },
  {
   "cell_type": "markdown",
   "metadata": {},
   "source": [
    "### _Ignore any warning or error message ^^ above ^^.  This is OK!_"
   ]
  },
  {
   "cell_type": "markdown",
   "metadata": {},
   "source": [
    "# Redshift"
   ]
  },
  {
   "cell_type": "code",
   "execution_count": 15,
   "metadata": {},
   "outputs": [
    {
     "name": "stdout",
     "output_type": "stream",
     "text": [
      "\u001b[31mERROR: pip's dependency resolver does not currently take into account all the packages that are installed. This behaviour is the source of the following dependency conflicts.\n",
      "langchain 0.0.350 requires SQLAlchemy<3,>=1.4, but you have sqlalchemy 1.3.22 which is incompatible.\n",
      "langchain-community 0.0.7 requires SQLAlchemy<3,>=1.4, but you have sqlalchemy 1.3.22 which is incompatible.\u001b[0m\u001b[31m\n",
      "\u001b[0m"
     ]
    }
   ],
   "source": [
    "!pip install --disable-pip-version-check -q SQLAlchemy==1.3.22\n",
    "!pip install --disable-pip-version-check -q psycopg2-binary==2.9.1"
   ]
  },
  {
   "cell_type": "markdown",
   "metadata": {},
   "source": [
    "### _Ignore any warning or error message ^^ above ^^.  This is OK!_"
   ]
  },
  {
   "cell_type": "markdown",
   "metadata": {},
   "source": [
    "# AWS Data Wrangler"
   ]
  },
  {
   "cell_type": "code",
   "execution_count": 16,
   "metadata": {},
   "outputs": [
    {
     "name": "stdout",
     "output_type": "stream",
     "text": [
      "\u001b[31mERROR: Ignored the following yanked versions: 3.2.0\u001b[0m\u001b[31m\n",
      "\u001b[0m\u001b[31mERROR: Ignored the following versions that require a different python version: 1.0.0 Requires-Python >=3.6, <3.9; 1.0.1 Requires-Python >=3.6, <3.9; 1.0.2 Requires-Python >=3.6, <3.9; 1.0.3 Requires-Python >=3.6, <3.9; 1.0.4 Requires-Python >=3.6, <3.9; 1.1.0 Requires-Python >=3.6, <3.9; 1.1.1 Requires-Python >=3.6, <3.9; 1.1.2 Requires-Python >=3.6, <3.9; 1.10.0 Requires-Python >=3.6, <3.9; 1.10.1 Requires-Python >=3.6, <3.9; 1.2.0 Requires-Python >=3.6, <3.9; 1.3.0 Requires-Python >=3.6, <3.9; 1.4.0 Requires-Python >=3.6, <3.9; 1.5.0 Requires-Python >=3.6, <3.9; 1.6.0 Requires-Python >=3.6, <3.9; 1.6.1 Requires-Python >=3.6, <3.9; 1.6.2 Requires-Python >=3.6, <3.9; 1.6.3 Requires-Python >=3.6, <3.9; 1.7.0 Requires-Python >=3.6, <3.9; 1.8.0 Requires-Python >=3.6, <3.9; 1.8.1 Requires-Python >=3.6, <3.9; 1.9.0 Requires-Python >=3.6, <3.9; 1.9.1 Requires-Python >=3.6, <3.9; 1.9.2 Requires-Python >=3.6, <3.9; 1.9.3 Requires-Python >=3.6, <3.9; 1.9.4 Requires-Python >=3.6, <3.9; 1.9.5 Requires-Python >=3.6, <3.9; 1.9.6 Requires-Python >=3.6, <3.9; 2.0.0 Requires-Python >=3.6, <3.9; 2.0.1 Requires-Python >=3.6, <3.9; 2.1.0 Requires-Python >=3.6, <3.9; 2.10.0 Requires-Python >=3.6, <3.10; 2.11.0 Requires-Python >=3.6.2,<3.10; 2.12.0 Requires-Python >=3.6.2,<3.10; 2.12.1 Requires-Python >=3.6.2,<3.10; 2.13.0 Requires-Python >=3.6.2,<=3.10.0; 2.2.0 Requires-Python >=3.6, <3.9; 2.3.0 Requires-Python >=3.6, <3.9; 2.4.0 Requires-Python >=3.6, <3.10; 2.5.0 Requires-Python >=3.6, <3.10; 2.6.0 Requires-Python >=3.6, <3.10; 2.7.0 Requires-Python >=3.6, <3.10; 2.8.0 Requires-Python >=3.6, <3.10; 2.9.0 Requires-Python >=3.6, <3.10\u001b[0m\u001b[31m\n",
      "\u001b[0m\u001b[31mERROR: Could not find a version that satisfies the requirement awswrangler==2.13.0 (from versions: 0.0b0, 0.0b2, 0.0b3, 0.0b4, 0.0b5, 0.0b6, 0.0b7, 0.0b8, 0.0b9, 0.0b10, 0.0b11, 0.0b12, 0.0b13, 0.0b14, 0.0b15, 0.0b16, 0.0b17, 0.0b18, 0.0b19, 0.0b20, 0.0b21, 0.0b22, 0.0b23, 0.0b24, 0.0b25, 0.0b26, 0.0b27, 0.0b28, 0.0b29, 0.0b30, 0.0b31, 0.0b32, 0.0.1, 0.0.2, 0.0.3, 0.0.4, 0.0.5, 0.0.6, 0.0.7, 0.0.8, 0.0.9, 0.0.10, 0.0.11, 0.0.12, 0.0.13, 0.0.14, 0.0.15, 0.0.16, 0.0.17, 0.0.18, 0.0.19, 0.0.20, 0.0.21, 0.0.22, 0.0.23, 0.0.24, 0.0.25, 0.1.0, 0.1.1, 0.1.2, 0.1.3, 0.1.4, 0.2.0, 0.2.1, 0.2.2, 0.2.3, 0.2.4, 0.2.5, 0.2.6, 0.3.0, 0.3.1, 0.3.2, 2.14.0, 2.15.0, 2.15.1, 2.16.0, 2.16.1, 2.17.0, 2.18.0, 2.19.0, 2.20.0, 2.20.1, 3.0.0a1, 3.0.0a2, 3.0.0b1, 3.0.0b2, 3.0.0b3, 3.0.0rc1, 3.0.0rc2, 3.0.0rc3, 3.0.0, 3.1.0, 3.1.1, 3.2.1, 3.3.0, 3.4.0, 3.4.1, 3.4.2, 3.5.0, 3.5.1, 3.5.2, 3.6.0)\u001b[0m\u001b[31m\n",
      "\u001b[0m\u001b[31mERROR: No matching distribution found for awswrangler==2.13.0\u001b[0m\u001b[31m\n",
      "\u001b[0m"
     ]
    }
   ],
   "source": [
    "!pip install --disable-pip-version-check -q awswrangler==2.13.0"
   ]
  },
  {
   "cell_type": "markdown",
   "metadata": {},
   "source": [
    "### _Ignore any warning or error message ^^ above ^^.  This is OK!_"
   ]
  },
  {
   "cell_type": "markdown",
   "metadata": {},
   "source": [
    "# StepFunctions"
   ]
  },
  {
   "cell_type": "code",
   "execution_count": 17,
   "metadata": {},
   "outputs": [],
   "source": [
    "!pip install --disable-pip-version-check -q stepfunctions==2.0.0rc1"
   ]
  },
  {
   "cell_type": "markdown",
   "metadata": {},
   "source": [
    "### _Ignore any warning or error message ^^ above ^^.  This is OK!_"
   ]
  },
  {
   "cell_type": "markdown",
   "metadata": {},
   "source": [
    "# Zip"
   ]
  },
  {
   "cell_type": "code",
   "execution_count": 18,
   "metadata": {},
   "outputs": [
    {
     "name": "stdout",
     "output_type": "stream",
     "text": [
      "Channels:\n",
      " - defaults\n",
      " - conda-forge\n",
      "Platform: linux-64\n",
      "Collecting package metadata (repodata.json): | "
     ]
    },
    {
     "name": "stderr",
     "output_type": "stream",
     "text": [
      "IOStream.flush timed out\n"
     ]
    }
   ],
   "source": [
    "!conda install -y zip"
   ]
  },
  {
   "cell_type": "markdown",
   "metadata": {},
   "source": [
    "# Matplotlib"
   ]
  },
  {
   "cell_type": "code",
   "execution_count": 19,
   "metadata": {},
   "outputs": [],
   "source": [
    "!pip install --disable-pip-version-check -q matplotlib==3.1.3"
   ]
  },
  {
   "cell_type": "markdown",
   "metadata": {},
   "source": [
    "### _Ignore any warning or error message ^^ above ^^.  This is OK!_"
   ]
  },
  {
   "cell_type": "markdown",
   "metadata": {},
   "source": [
    "# Seaborn"
   ]
  },
  {
   "cell_type": "code",
   "execution_count": 20,
   "metadata": {},
   "outputs": [],
   "source": [
    "!pip install --disable-pip-version-check -q seaborn==0.10.0"
   ]
  },
  {
   "cell_type": "markdown",
   "metadata": {},
   "source": [
    "### _Ignore any warning or error message ^^ above ^^.  This is OK!_"
   ]
  },
  {
   "cell_type": "markdown",
   "metadata": {},
   "source": [
    "# AWS CLI and Credentials (Optional)\n",
    "If you are running outside of an AWS account, you should uncomment and run the cells below."
   ]
  },
  {
   "cell_type": "code",
   "execution_count": 21,
   "metadata": {},
   "outputs": [],
   "source": [
    "# !pip install awscli"
   ]
  },
  {
   "cell_type": "code",
   "execution_count": 22,
   "metadata": {},
   "outputs": [],
   "source": [
    "# !mkdir ~/.aws"
   ]
  },
  {
   "cell_type": "code",
   "execution_count": 23,
   "metadata": {},
   "outputs": [],
   "source": [
    "# %%writefile ~/.aws/credentials\n",
    "\n",
    "# [default]\n",
    "# aws_access_key_id = <ACCESS_KEY_ID>\n",
    "# aws_secret_access_key = <SECRET_ACCESS_KEY> "
   ]
  },
  {
   "cell_type": "code",
   "execution_count": 24,
   "metadata": {},
   "outputs": [],
   "source": [
    "# %%writefile ~/.aws/config\n",
    "\n",
    "# [default]\n",
    "# region=<REGION_NAME> # us-east-1"
   ]
  },
  {
   "cell_type": "markdown",
   "metadata": {},
   "source": [
    "# Summarize"
   ]
  },
  {
   "cell_type": "code",
   "execution_count": 25,
   "metadata": {},
   "outputs": [
    {
     "name": "stdout",
     "output_type": "stream",
     "text": [
      "Python 3.10.13\n"
     ]
    }
   ],
   "source": [
    "!python --version"
   ]
  },
  {
   "cell_type": "code",
   "execution_count": 26,
   "metadata": {
    "scrolled": true
   },
   "outputs": [
    {
     "name": "stdout",
     "output_type": "stream",
     "text": [
      "Package                               Version\n",
      "------------------------------------- -----------------\n",
      "absl-py                               2.1.0\n",
      "accelerate                            0.21.0\n",
      "aiobotocore                           2.7.0\n",
      "aiohttp                               3.9.1\n",
      "aioitertools                          0.11.0\n",
      "aiosignal                             1.3.1\n",
      "aiosqlite                             0.19.0\n",
      "altair                                5.2.0\n",
      "amazon-codewhisperer-jupyterlab-ext   2.0.1\n",
      "amazon_sagemaker_jupyter_scheduler    3.0.6\n",
      "annotated-types                       0.6.0\n",
      "ansi2html                             0.0.0\n",
      "ansiwrap                              0.8.4\n",
      "antlr4-python3-runtime                4.9.3\n",
      "anyio                                 3.7.1\n",
      "appdirs                               1.4.4\n",
      "archspec                              0.2.2\n",
      "argon2-cffi                           23.1.0\n",
      "argon2-cffi-bindings                  21.2.0\n",
      "arrow                                 1.3.0\n",
      "astroid                               3.0.2\n",
      "asttokens                             2.4.1\n",
      "astunparse                            1.6.3\n",
      "async-lru                             2.0.4\n",
      "async-timeout                         4.0.3\n",
      "attrs                                 23.2.0\n",
      "autogluon                             0.8.2\n",
      "autogluon.common                      0.8.2\n",
      "autogluon.core                        0.8.2\n",
      "autogluon.features                    0.8.2\n",
      "autogluon.multimodal                  0.8.2\n",
      "autogluon.tabular                     0.8.2\n",
      "autogluon.timeseries                  0.8.2\n",
      "autopep8                              2.0.4\n",
      "autovizwidget                         0.21.0\n",
      "aws-embedded-metrics                  3.2.0\n",
      "aws-glue-sessions                     1.0.4\n",
      "awscli                                1.18.216\n",
      "Babel                                 2.14.0\n",
      "beautifulsoup4                        4.12.3\n",
      "binaryornot                           0.4.4\n",
      "black                                 24.1.1\n",
      "bleach                                6.1.0\n",
      "blinker                               1.7.0\n",
      "blis                                  0.7.10\n",
      "boltons                               23.1.1\n",
      "boto3                                 1.16.56\n",
      "botocore                              1.19.56\n",
      "Brotli                                1.0.9\n",
      "cached-property                       1.5.2\n",
      "cachetools                            5.3.2\n",
      "catalogue                             2.0.10\n",
      "catboost                              1.2.2\n",
      "certifi                               2023.11.17\n",
      "cffi                                  1.16.0\n",
      "chardet                               5.2.0\n",
      "charset-normalizer                    3.3.2\n",
      "click                                 8.1.7\n",
      "cloudpathlib                          0.16.0\n",
      "cloudpickle                           2.2.1\n",
      "colorama                              0.4.3\n",
      "comm                                  0.2.1\n",
      "conda                                 23.11.0\n",
      "conda-libmamba-solver                 24.1.0\n",
      "conda-package-handling                2.2.0\n",
      "conda_package_streaming               0.9.0\n",
      "confection                            0.1.4\n",
      "contextlib2                           21.6.0\n",
      "contourpy                             1.2.0\n",
      "cookiecutter                          2.5.0\n",
      "croniter                              1.4.1\n",
      "cryptography                          42.0.2\n",
      "cycler                                0.12.1\n",
      "cymem                                 2.0.8\n",
      "cytoolz                               0.12.2\n",
      "dash                                  2.15.0\n",
      "dask                                  2024.1.1\n",
      "dataclasses                           0.8\n",
      "dataclasses-json                      0.6.3\n",
      "datasets                              2.16.1\n",
      "debugpy                               1.8.0\n",
      "decorator                             5.1.1\n",
      "deepmerge                             1.1.1\n",
      "defusedxml                            0.7.1\n",
      "dill                                  0.3.7\n",
      "distributed                           2024.1.1\n",
      "distro                                1.9.0\n",
      "docker-pycreds                        0.4.0\n",
      "docstring-to-markdown                 0.13\n",
      "docutils                              0.15.2\n",
      "entrypoints                           0.4\n",
      "enum-compat                           0.0.3\n",
      "et-xmlfile                            1.1.0\n",
      "evaluate                              0.4.1\n",
      "exceptiongroup                        1.2.0\n",
      "executing                             2.0.1\n",
      "faiss                                 1.7.4\n",
      "fastai                                2.7.14\n",
      "fastapi                               0.103.2\n",
      "fastcore                              1.5.29\n",
      "fastdownload                          0.0.7\n",
      "fastjsonschema                        2.19.1\n",
      "fastprogress                          1.0.3\n",
      "filelock                              3.13.1\n",
      "flake8                                6.1.0\n",
      "Flask                                 3.0.1\n",
      "flatbuffers                           23.5.26\n",
      "fonttools                             4.47.2\n",
      "fqdn                                  1.5.1\n",
      "frozenlist                            1.4.1\n",
      "fsspec                                2023.6.0\n",
      "future                                0.18.3\n",
      "gast                                  0.4.0\n",
      "gdown                                 5.0.1\n",
      "gitdb                                 4.0.11\n",
      "GitPython                             3.1.41\n",
      "gluonts                               0.13.7\n",
      "gmpy2                                 2.1.2\n",
      "google-api-core                       2.16.1\n",
      "google-auth                           2.27.0\n",
      "google-auth-oauthlib                  1.0.0\n",
      "google-pasta                          0.2.0\n",
      "googleapis-common-protos              1.62.0\n",
      "graphviz                              0.20.1\n",
      "greenlet                              3.0.1\n",
      "grpcio                                1.54.3\n",
      "gssapi                                1.8.3\n",
      "h11                                   0.14.0\n",
      "h5py                                  3.10.0\n",
      "hdijupyterutils                       0.21.0\n",
      "huggingface_hub                       0.20.2\n",
      "idna                                  3.6\n",
      "imagecodecs                           2023.8.12\n",
      "imageio                               2.33.1\n",
      "importlib-metadata                    6.10.0\n",
      "importlib-resources                   6.1.1\n",
      "iniconfig                             2.0.0\n",
      "ipykernel                             6.29.0\n",
      "ipython                               8.20.0\n",
      "ipywidgets                            8.1.1\n",
      "isoduration                           20.11.0\n",
      "isort                                 5.13.2\n",
      "itsdangerous                          2.1.2\n",
      "jax                                   0.4.20\n",
      "jaxlib                                0.4.14\n",
      "jedi                                  0.19.1\n",
      "Jinja2                                3.1.3\n",
      "jmespath                              0.10.0\n",
      "joblib                                1.3.2\n",
      "json5                                 0.9.14\n",
      "jsonpatch                             1.33\n",
      "jsonpath-ng                           1.6.1\n",
      "jsonpointer                           2.4\n",
      "jsonschema                            4.17.3\n",
      "jupyter                               1.0.0\n",
      "jupyter_ai                            2.8.1\n",
      "jupyter_ai_magics                     2.8.1\n",
      "jupyter_client                        8.6.0\n",
      "jupyter-console                       6.6.3\n",
      "jupyter_core                          5.7.1\n",
      "jupyter-dash                          0.4.2\n",
      "jupyter-events                        0.6.3\n",
      "jupyter-lsp                           2.2.2\n",
      "jupyter_scheduler                     2.4.0\n",
      "jupyter_server                        2.10.0\n",
      "jupyter-server-mathjax                0.2.6\n",
      "jupyter_server_proxy                  4.1.0\n",
      "jupyter_server_terminals              0.5.2\n",
      "jupyterlab                            4.0.12\n",
      "jupyterlab_git                        0.50.0\n",
      "jupyterlab-lsp                        5.0.2\n",
      "jupyterlab_pygments                   0.3.0\n",
      "jupyterlab_server                     2.24.0\n",
      "jupyterlab-widgets                    3.0.9\n",
      "keras                                 2.12.0\n",
      "Keras-Preprocessing                   1.1.2\n",
      "kiwisolver                            1.4.5\n",
      "krb5                                  0.5.1\n",
      "langchain                             0.0.350\n",
      "langchain-community                   0.0.7\n",
      "langchain-core                        0.1.3\n",
      "langcodes                             3.3.0\n",
      "langsmith                             0.0.85\n",
      "libmambapy                            1.5.6\n",
      "lightgbm                              3.3.5\n",
      "lightning-utilities                   0.10.1\n",
      "llvmlite                              0.41.1\n",
      "locket                                1.0.0\n",
      "Markdown                              3.5.2\n",
      "markdown-it-py                        3.0.0\n",
      "MarkupSafe                            2.1.4\n",
      "marshmallow                           3.20.2\n",
      "matplotlib                            3.1.3\n",
      "matplotlib-inline                     0.1.6\n",
      "mccabe                                0.7.0\n",
      "mdurl                                 0.1.2\n",
      "menuinst                              2.0.2\n",
      "mistune                               3.0.2\n",
      "ml-dtypes                             0.3.2\n",
      "mlforecast                            0.7.3\n",
      "mock                                  5.1.0\n",
      "model-index                           0.1.11\n",
      "mpmath                                1.3.0\n",
      "msgpack                               1.0.7\n",
      "multidict                             6.0.4\n",
      "multiprocess                          0.70.15\n",
      "munkres                               1.1.4\n",
      "murmurhash                            1.0.10\n",
      "mypy-extensions                       1.0.0\n",
      "nbclient                              0.8.0\n",
      "nbconvert                             7.14.2\n",
      "nbdime                                4.0.1\n",
      "nbformat                              5.9.2\n",
      "nest_asyncio                          1.6.0\n",
      "networkx                              3.2.1\n",
      "nlpaug                                1.1.11\n",
      "nltk                                  3.8.1\n",
      "nose                                  1.3.7\n",
      "notebook                              7.0.7\n",
      "notebook_shim                         0.2.3\n",
      "nptyping                              2.4.1\n",
      "numba                                 0.58.1\n",
      "numexpr                               2.8.7\n",
      "numpy                                 1.26.3\n",
      "oauthlib                              3.2.2\n",
      "omegaconf                             2.2.3\n",
      "openai                                0.28.1\n",
      "openapi-schema-pydantic               1.2.4\n",
      "openmim                               0.3.7\n",
      "openpyxl                              3.1.2\n",
      "opt-einsum                            3.3.0\n",
      "ordered-set                           4.1.0\n",
      "overrides                             7.7.0\n",
      "packaging                             23.2\n",
      "pandas                                2.1.4\n",
      "pandas-stubs                          2.1.4.231227\n",
      "pandocfilters                         1.5.0\n",
      "papermill                             2.4.0\n",
      "parso                                 0.8.3\n",
      "partd                                 1.4.1\n",
      "pathos                                0.3.2\n",
      "pathspec                              0.12.1\n",
      "pathtools                             0.1.2\n",
      "pathy                                 0.10.2\n",
      "patsy                                 0.5.6\n",
      "pexpect                               4.9.0\n",
      "pickleshare                           0.7.5\n",
      "Pillow                                9.5.0\n",
      "pip                                   24.0\n",
      "pkgutil_resolve_name                  1.3.10\n",
      "platformdirs                          4.2.0\n",
      "plotly                                5.18.0\n",
      "pluggy                                1.4.0\n",
      "ply                                   3.11\n",
      "pox                                   0.3.4\n",
      "ppft                                  1.7.6.8\n",
      "preshed                               3.0.9\n",
      "prometheus-client                     0.19.0\n",
      "prompt-toolkit                        3.0.42\n",
      "protobuf                              4.21.12\n",
      "protobuf3-to-dict                     0.1.5\n",
      "psutil                                5.9.8\n",
      "psycopg2-binary                       2.9.1\n",
      "ptyprocess                            0.7.0\n",
      "pure-eval                             0.2.2\n",
      "pure-sasl                             0.6.2\n",
      "pyarrow                               12.0.1\n",
      "pyarrow-hotfix                        0.6\n",
      "pyasn1                                0.5.1\n",
      "pyasn1-modules                        0.3.0\n",
      "pyathena                              2.1.0\n",
      "pycodestyle                           2.11.1\n",
      "pycosat                               0.6.6\n",
      "pycparser                             2.21\n",
      "pydantic                              1.10.13\n",
      "pydantic_core                         2.14.3\n",
      "pydocstyle                            6.3.0\n",
      "pyflakes                              3.1.0\n",
      "Pygments                              2.17.2\n",
      "PyHive                                0.7.0\n",
      "pyinstrument                          4.6.2\n",
      "PyJWT                                 2.8.0\n",
      "pylint                                3.0.3\n",
      "pyOpenSSL                             24.0.0\n",
      "pyparsing                             3.1.1\n",
      "PyQt5                                 5.15.9\n",
      "PyQt5-sip                             12.12.2\n",
      "pyrsistent                            0.20.0\n",
      "PySocks                               1.7.1\n",
      "pyspnego                              0.9.1\n",
      "pytesseract                           0.3.10\n",
      "pytest                                8.0.0\n",
      "pytest-subtests                       0.11.0\n",
      "python-dateutil                       2.8.2\n",
      "python-json-logger                    2.0.7\n",
      "python-lsp-jsonrpc                    1.1.2\n",
      "python-lsp-server                     1.9.0\n",
      "python-slugify                        8.0.3\n",
      "pytoolconfig                          1.2.5\n",
      "pytorch-lightning                     2.0.9\n",
      "pytorch-metric-learning               1.7.3\n",
      "pytz                                  2023.3\n",
      "pyu2f                                 0.1.5\n",
      "PyWavelets                            1.4.1\n",
      "PyYAML                                5.3.1\n",
      "pyzmq                                 25.1.2\n",
      "qtconsole                             5.5.1\n",
      "QtPy                                  2.4.1\n",
      "regex                                 2023.12.25\n",
      "requests                              2.31.0\n",
      "requests-kerberos                     0.14.0\n",
      "requests-oauthlib                     1.3.1\n",
      "responses                             0.18.0\n",
      "retrying                              1.3.3\n",
      "rfc3339-validator                     0.1.4\n",
      "rfc3986-validator                     0.1.1\n",
      "rich                                  13.7.0\n",
      "rope                                  1.12.0\n",
      "rsa                                   4.5\n",
      "ruamel.yaml                           0.18.5\n",
      "ruamel.yaml.clib                      0.2.7\n",
      "s3transfer                            0.3.7\n",
      "sacremoses                            0.0.53\n",
      "safetensors                           0.3.3\n",
      "sagemaker                             2.29.0\n",
      "sagemaker-experiments                 0.1.26\n",
      "sagemaker-headless-execution-driver   0.0.12\n",
      "sagemaker-jupyterlab-emr-extension    0.1.9\n",
      "sagemaker-jupyterlab-extension        0.2.0\n",
      "sagemaker-jupyterlab-extension-common 0.1.9\n",
      "sagemaker-kernel-wrapper              0.0.2\n",
      "sagemaker-studio-analytics-extension  0.0.21\n",
      "sagemaker-studio-sparkmagic-lib       0.1.4\n",
      "sasl                                  0.3.1\n",
      "schema                                0.7.5\n",
      "scikit-image                          0.19.3\n",
      "scikit-learn                          1.3.2\n",
      "SciPy                                 1.11.4\n",
      "seaborn                               0.10.0\n",
      "Send2Trash                            1.8.2\n",
      "sentencepiece                         0.1.99\n",
      "sentry-sdk                            1.40.0\n",
      "seqeval                               1.2.2\n",
      "setproctitle                          1.3.3\n",
      "setuptools                            69.0.3\n",
      "shellingham                           1.5.4\n",
      "simpervisor                           1.0.0\n",
      "sip                                   6.7.12\n",
      "six                                   1.16.0\n",
      "smart-open                            5.2.1\n",
      "smdebug                               1.0.1\n",
      "smdebug-rulesconfig                   1.0.1\n",
      "smmap                                 5.0.0\n",
      "sniffio                               1.3.0\n",
      "snowballstemmer                       2.2.0\n",
      "sortedcontainers                      2.4.0\n",
      "soupsieve                             2.5\n",
      "spacy                                 3.7.2\n",
      "spacy-legacy                          3.0.12\n",
      "spacy-loggers                         1.0.5\n",
      "sparkmagic                            0.21.0\n",
      "SQLAlchemy                            1.3.22\n",
      "srsly                                 2.4.8\n",
      "stack-data                            0.6.2\n",
      "starlette                             0.27.0\n",
      "statsforecast                         1.4.0\n",
      "statsmodels                           0.14.1\n",
      "stepfunctions                         2.0.0rc1\n",
      "supervisor                            4.2.5\n",
      "sympy                                 1.12\n",
      "tabulate                              0.9.0\n",
      "tblib                                 1.7.0\n",
      "tenacity                              8.2.3\n",
      "tensorboard                           2.12.3\n",
      "tensorboard-data-server               0.7.0\n",
      "tensorflow                            2.12.1\n",
      "tensorflow-estimator                  2.12.0\n",
      "termcolor                             2.4.0\n",
      "terminado                             0.18.0\n",
      "text-unidecode                        1.3\n",
      "textwrap3                             0.9.2\n",
      "thinc                                 8.2.2\n",
      "threadpoolctl                         3.2.0\n",
      "thrift                                0.19.0\n",
      "thrift-sasl                           0.4.3\n",
      "tifffile                              2024.1.30\n",
      "tiktoken                              0.5.2\n",
      "timm                                  0.9.12\n",
      "tinycss2                              1.2.1\n",
      "tokenizers                            0.13.3\n",
      "toml                                  0.10.2\n",
      "tomli                                 2.0.1\n",
      "tomlkit                               0.12.3\n",
      "toolz                                 0.12.1\n",
      "torch                                 2.0.0.post101\n",
      "torch-model-archiver                  0.3.0\n",
      "torchmetrics                          1.0.3\n",
      "torchserve                            0.3.0\n",
      "torchvision                           0.15.2a0+072ec57\n",
      "tornado                               6.3.3\n",
      "tqdm                                  4.66.1\n",
      "traitlets                             5.14.1\n",
      "transformers                          4.31.0\n",
      "truststore                            0.8.0\n",
      "typer                                 0.9.0\n",
      "types-python-dateutil                 2.8.19.20240106\n",
      "types-pytz                            2023.4.0.20240130\n",
      "typing_extensions                     4.5.0\n",
      "typing-inspect                        0.9.0\n",
      "typing-utils                          0.1.0\n",
      "typish                                1.9.3\n",
      "tzdata                                2023.4\n",
      "ujson                                 5.9.0\n",
      "unicodedata2                          15.1.0\n",
      "uri-template                          1.3.0\n",
      "urllib3                               1.26.18\n",
      "uvicorn                               0.25.0\n",
      "wandb                                 0.16.2\n",
      "wasabi                                1.1.2\n",
      "wcwidth                               0.2.13\n",
      "weasel                                0.3.4\n",
      "webcolors                             1.13\n",
      "webencodings                          0.5.1\n",
      "websocket-client                      1.7.0\n",
      "Werkzeug                              3.0.1\n",
      "whatthepatch                          1.0.5\n",
      "wheel                                 0.42.0\n",
      "widgetsnbextension                    4.0.9\n",
      "window-ops                            0.0.14\n",
      "wrapt                                 1.16.0\n",
      "xgboost                               1.7.6\n",
      "xxhash                                3.4.1\n",
      "yapf                                  0.40.1\n",
      "yarl                                  1.9.4\n",
      "zict                                  3.0.0\n",
      "zipp                                  3.17.0\n",
      "zstandard                             0.22.0\n"
     ]
    }
   ],
   "source": [
    "!pip list"
   ]
  },
  {
   "cell_type": "code",
   "execution_count": 27,
   "metadata": {},
   "outputs": [],
   "source": [
    "setup_dependencies_passed = True"
   ]
  },
  {
   "cell_type": "code",
   "execution_count": 28,
   "metadata": {},
   "outputs": [
    {
     "name": "stdout",
     "output_type": "stream",
     "text": [
      "Stored 'setup_dependencies_passed' (bool)\n"
     ]
    }
   ],
   "source": [
    "%store setup_dependencies_passed"
   ]
  },
  {
   "cell_type": "code",
   "execution_count": 29,
   "metadata": {},
   "outputs": [
    {
     "name": "stdout",
     "output_type": "stream",
     "text": [
      "Stored variables and their in-db values:\n",
      "setup_dependencies_passed             -> True\n"
     ]
    }
   ],
   "source": [
    "%store"
   ]
  },
  {
   "cell_type": "markdown",
   "metadata": {},
   "source": [
    "# Release Resources"
   ]
  },
  {
   "cell_type": "code",
   "execution_count": null,
   "metadata": {},
   "outputs": [],
   "source": [
    "%%html\n",
    "\n",
    "<p><b>Shutting down your kernel for this notebook to release resources.</b></p>\n",
    "<button class=\"sm-command-button\" data-commandlinker-command=\"kernelmenu:shutdown\" style=\"display:none;\">Shutdown Kernel</button>\n",
    "        \n",
    "<script>\n",
    "try {\n",
    "    els = document.getElementsByClassName(\"sm-command-button\");\n",
    "    els[0].click();\n",
    "}\n",
    "catch(err) {\n",
    "    // NoOp\n",
    "}    \n",
    "</script>"
   ]
  },
  {
   "cell_type": "code",
   "execution_count": null,
   "metadata": {},
   "outputs": [],
   "source": [
    "%%javascript\n",
    "\n",
    "try {\n",
    "    Jupyter.notebook.save_checkpoint();\n",
    "    Jupyter.notebook.session.delete();\n",
    "}\n",
    "catch(err) {\n",
    "    // NoOp\n",
    "}"
   ]
  }
 ],
 "metadata": {
  "instance_type": "ml.t3.medium",
  "kernelspec": {
   "display_name": "Python 3 (ipykernel)",
   "language": "python",
   "name": "python3"
  },
  "language_info": {
   "codemirror_mode": {
    "name": "ipython",
    "version": 3
   },
   "file_extension": ".py",
   "mimetype": "text/x-python",
   "name": "python",
   "nbconvert_exporter": "python",
   "pygments_lexer": "ipython3",
   "version": "3.11.5"
  }
 },
 "nbformat": 4,
 "nbformat_minor": 4
}
